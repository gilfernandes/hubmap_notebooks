{
 "cells": [
  {
   "cell_type": "code",
   "execution_count": null,
   "id": "final-minister",
   "metadata": {},
   "outputs": [],
   "source": [
    "# !pip install -q git+https://github.com/matjesg/deepflash2.git"
   ]
  },
  {
   "cell_type": "code",
   "execution_count": null,
   "id": "infinite-dollar",
   "metadata": {},
   "outputs": [],
   "source": [
    "# !pip install zarr"
   ]
  },
  {
   "cell_type": "code",
   "execution_count": 1,
   "id": "academic-delicious",
   "metadata": {},
   "outputs": [],
   "source": [
    "%load_ext autoreload\n",
    "%autoreload 2"
   ]
  },
  {
   "cell_type": "code",
   "execution_count": 2,
   "id": "decimal-contact",
   "metadata": {},
   "outputs": [],
   "source": [
    "import warnings\n",
    "warnings.filterwarnings(\"ignore\", message=\"numpy.dtype size changed\")\n",
    "warnings.filterwarnings(\"ignore\", message=\"numpy.ufunc size changed\")"
   ]
  },
  {
   "cell_type": "code",
   "execution_count": 3,
   "id": "surgical-comment",
   "metadata": {},
   "outputs": [],
   "source": [
    "# imports\n",
    "import zarr, cv2\n",
    "import numpy as np, pandas as pd, segmentation_models_pytorch as smp\n",
    "from deepflash2.all import *\n",
    "from deepflash2.transforms import random_center\n",
    "import albumentations as alb\n",
    "import torch\n",
    "import torch.nn as nn"
   ]
  },
  {
   "cell_type": "code",
   "execution_count": 4,
   "id": "short-settle",
   "metadata": {},
   "outputs": [
    {
     "data": {
      "text/html": [
       "<style>\n",
       ".tooltip {\n",
       "  position: relative;\n",
       "  display: inline-block;\n",
       "}\n",
       "\n",
       ".tooltip .tooltiptext {\n",
       "  visibility: hidden;\n",
       "  width: max-content;\n",
       "  max-width: 280px;\n",
       "  background-color: #00bcd4;\n",
       "  text-align: left;\n",
       "  color: white;\n",
       "  border-radius: 4px;\n",
       "  padding: 4px 4px;\n",
       "  border: solid 0px black;\n",
       "  line-height: 1em;\n",
       "\n",
       "  /* Position the tooltip */\n",
       "  position: absolute;\n",
       "  z-index: 1;\n",
       "}\n",
       "\n",
       ".tooltip:hover .tooltiptext {\n",
       "  visibility: visible;\n",
       "}\n",
       "</style>"
      ],
      "text/plain": [
       "<IPython.core.display.HTML object>"
      ]
     },
     "metadata": {},
     "output_type": "display_data"
    }
   ],
   "source": [
    "from config.global_vars import *\n",
    "from datasets.hubdataset import HubDataset"
   ]
  },
  {
   "cell_type": "code",
   "execution_count": 5,
   "id": "eleven-diploma",
   "metadata": {},
   "outputs": [
    {
     "data": {
      "text/html": [
       "<style>\n",
       ".tooltip {\n",
       "  position: relative;\n",
       "  display: inline-block;\n",
       "}\n",
       "\n",
       ".tooltip .tooltiptext {\n",
       "  visibility: hidden;\n",
       "  width: max-content;\n",
       "  max-width: 280px;\n",
       "  background-color: #00bcd4;\n",
       "  text-align: left;\n",
       "  color: white;\n",
       "  border-radius: 4px;\n",
       "  padding: 4px 4px;\n",
       "  border: solid 0px black;\n",
       "  line-height: 1em;\n",
       "\n",
       "  /* Position the tooltip */\n",
       "  position: absolute;\n",
       "  z-index: 1;\n",
       "}\n",
       "\n",
       ".tooltip:hover .tooltiptext {\n",
       "  visibility: visible;\n",
       "}\n",
       "</style>"
      ],
      "text/plain": [
       "<IPython.core.display.HTML object>"
      ]
     },
     "metadata": {},
     "output_type": "display_data"
    }
   ],
   "source": [
    "ARCH = 'unet'"
   ]
  },
  {
   "cell_type": "code",
   "execution_count": 6,
   "id": "royal-ottawa",
   "metadata": {},
   "outputs": [
    {
     "data": {
      "text/html": [
       "<style>\n",
       ".tooltip {\n",
       "  position: relative;\n",
       "  display: inline-block;\n",
       "}\n",
       "\n",
       ".tooltip .tooltiptext {\n",
       "  visibility: hidden;\n",
       "  width: max-content;\n",
       "  max-width: 280px;\n",
       "  background-color: #00bcd4;\n",
       "  text-align: left;\n",
       "  color: white;\n",
       "  border-radius: 4px;\n",
       "  padding: 4px 4px;\n",
       "  border: solid 0px black;\n",
       "  line-height: 1em;\n",
       "\n",
       "  /* Position the tooltip */\n",
       "  position: absolute;\n",
       "  z-index: 1;\n",
       "}\n",
       "\n",
       ".tooltip:hover .tooltiptext {\n",
       "  visibility: visible;\n",
       "}\n",
       "</style>"
      ],
      "text/plain": [
       "<IPython.core.display.HTML object>"
      ]
     },
     "metadata": {},
     "output_type": "display_data"
    }
   ],
   "source": [
    "# Model\n",
    "model = smp.Unet(encoder_name=ENCODER_NAME, \n",
    "                 encoder_weights=ENCODER_WEIGHTS, \n",
    "                 in_channels=CHANNELS, \n",
    "                 classes=CLASSES)\n",
    "if torch.cuda.device_count() > 1:\n",
    "    print(\"Let's use\", torch.cuda.device_count(), \"GPUs!\")\n",
    "    model = nn.DataParallel(model)\n",
    "model.cuda();"
   ]
  },
  {
   "cell_type": "code",
   "execution_count": 7,
   "id": "august-poland",
   "metadata": {},
   "outputs": [
    {
     "data": {
      "text/html": [
       "<style>\n",
       ".tooltip {\n",
       "  position: relative;\n",
       "  display: inline-block;\n",
       "}\n",
       "\n",
       ".tooltip .tooltiptext {\n",
       "  visibility: hidden;\n",
       "  width: max-content;\n",
       "  max-width: 280px;\n",
       "  background-color: #00bcd4;\n",
       "  text-align: left;\n",
       "  color: white;\n",
       "  border-radius: 4px;\n",
       "  padding: 4px 4px;\n",
       "  border: solid 0px black;\n",
       "  line-height: 1em;\n",
       "\n",
       "  /* Position the tooltip */\n",
       "  position: absolute;\n",
       "  z-index: 1;\n",
       "}\n",
       "\n",
       ".tooltip:hover .tooltiptext {\n",
       "  visibility: visible;\n",
       "}\n",
       "</style>"
      ],
      "text/plain": [
       "<IPython.core.display.HTML object>"
      ]
     },
     "metadata": {},
     "output_type": "display_data"
    }
   ],
   "source": [
    "from fastai.vision.all import *"
   ]
  },
  {
   "cell_type": "code",
   "execution_count": 8,
   "id": "needed-direction",
   "metadata": {},
   "outputs": [
    {
     "data": {
      "text/html": [
       "<style>\n",
       ".tooltip {\n",
       "  position: relative;\n",
       "  display: inline-block;\n",
       "}\n",
       "\n",
       ".tooltip .tooltiptext {\n",
       "  visibility: hidden;\n",
       "  width: max-content;\n",
       "  max-width: 280px;\n",
       "  background-color: #00bcd4;\n",
       "  text-align: left;\n",
       "  color: white;\n",
       "  border-radius: 4px;\n",
       "  padding: 4px 4px;\n",
       "  border: solid 0px black;\n",
       "  line-height: 1em;\n",
       "\n",
       "  /* Position the tooltip */\n",
       "  position: absolute;\n",
       "  z-index: 1;\n",
       "}\n",
       "\n",
       ".tooltip:hover .tooltiptext {\n",
       "  visibility: visible;\n",
       "}\n",
       "</style>"
      ],
      "text/plain": [
       "<IPython.core.display.HTML object>"
      ]
     },
     "metadata": {},
     "output_type": "display_data"
    }
   ],
   "source": [
    "@patch\n",
    "def read_img(self:BaseDataset, file, *args, **kwargs):\n",
    "    return zarr.open(str(file), mode='r')\n",
    "\n",
    "@patch\n",
    "def _name_fn(self:BaseDataset, g):\n",
    "    \"Name of preprocessed and compressed data.\"\n",
    "    return f'{g}'\n",
    "\n",
    "@patch\n",
    "def apply(self:DeformationField, data, offset=(0, 0), pad=(0, 0), order=1):\n",
    "    \"Apply deformation field to image using interpolation\"\n",
    "    outshape = tuple(int(s - p) for (s, p) in zip(self.shape, pad))\n",
    "    coords = [np.squeeze(d).astype('float32').reshape(*outshape) for d in self.get(offset, pad)]\n",
    "    # Get slices to avoid loading all data (.zarr files)\n",
    "    sl = []\n",
    "    for i in range(len(coords)):\n",
    "        cmin, cmax = int(coords[i].min()), int(coords[i].max())\n",
    "        dmax = data.shape[i]\n",
    "        if cmin<0: \n",
    "            cmax = max(-cmin, cmax)\n",
    "            cmin = 0 \n",
    "        elif cmax>dmax:\n",
    "            cmin = min(cmin, 2*dmax-cmax)\n",
    "            cmax = dmax\n",
    "            coords[i] -= cmin\n",
    "        else: coords[i] -= cmin\n",
    "        sl.append(slice(cmin, cmax))    \n",
    "    if len(data.shape) == len(self.shape) + 1:\n",
    "        tile = np.empty((*outshape, data.shape[-1]))\n",
    "        for c in range(data.shape[-1]):\n",
    "            # Adding divide\n",
    "            tile[..., c] = cv2.remap(data[sl[0],sl[1], c]/255, coords[1],coords[0], interpolation=order, borderMode=cv2.BORDER_REFLECT)\n",
    "    else:\n",
    "        tile = cv2.remap(data[sl[0], sl[1]], coords[1], coords[0], interpolation=order, borderMode=cv2.BORDER_REFLECT)\n",
    "    return tile"
   ]
  },
  {
   "cell_type": "code",
   "execution_count": 9,
   "id": "steady-communication",
   "metadata": {},
   "outputs": [
    {
     "data": {
      "text/html": [
       "<style>\n",
       ".tooltip {\n",
       "  position: relative;\n",
       "  display: inline-block;\n",
       "}\n",
       "\n",
       ".tooltip .tooltiptext {\n",
       "  visibility: hidden;\n",
       "  width: max-content;\n",
       "  max-width: 280px;\n",
       "  background-color: #00bcd4;\n",
       "  text-align: left;\n",
       "  color: white;\n",
       "  border-radius: 4px;\n",
       "  padding: 4px 4px;\n",
       "  border: solid 0px black;\n",
       "  line-height: 1em;\n",
       "\n",
       "  /* Position the tooltip */\n",
       "  position: absolute;\n",
       "  z-index: 1;\n",
       "}\n",
       "\n",
       ".tooltip:hover .tooltiptext {\n",
       "  visibility: visible;\n",
       "}\n",
       "</style>"
      ],
      "text/plain": [
       "<IPython.core.display.HTML object>"
      ]
     },
     "metadata": {},
     "output_type": "display_data"
    }
   ],
   "source": [
    "@patch\n",
    "def __getitem__(self:RandomTileDataset, idx):\n",
    "    idx = idx % len(self.files)\n",
    "    if torch.is_tensor(idx):\n",
    "        idx = idx.tolist()\n",
    "\n",
    "    img_path = self.files[idx]\n",
    "    img = self.read_img(img_path, divide=self.divide)\n",
    "    n_channels = img.shape[-1]\n",
    "\n",
    "    lbl, pdf  = self.labels[img_path.name], self.pdfs[self._name_fn(img_path.name)]\n",
    "    center = random_center(pdf[:], lbl.shape, TILE_SHAPE)\n",
    "    X = self.gammaFcn(self.deformationField.apply(img, center).flatten()).reshape((*self.tile_shape, n_channels))\n",
    "    Y = self.deformationField.apply(lbl, center, self.padding, 0)\n",
    "    X1 = X.copy()\n",
    "\n",
    "    if self.albumentations_tfms:\n",
    "        augmented = self.albumentations_tfms(image=(X*255).astype('uint8'),mask=Y.astype('uint8'))\n",
    "        X = (augmented['image']/255)\n",
    "        Y = augmented['mask']\n",
    "\n",
    "    X = X.transpose(2, 0, 1).astype('float32')\n",
    "    Y = Y.astype('int64')\n",
    "\n",
    "    if self.loss_weights:\n",
    "        _, W = cv2.connectedComponents((Y > 0).astype('uint8'), connectivity=4)\n",
    "        return  TensorImage(X), TensorMask(Y), torch.Tensor(W)\n",
    "    else:\n",
    "        return  TensorImage(X), TensorMask(Y)"
   ]
  },
  {
   "cell_type": "code",
   "execution_count": 10,
   "id": "corrected-craps",
   "metadata": {},
   "outputs": [
    {
     "data": {
      "text/html": [
       "<style>\n",
       ".tooltip {\n",
       "  position: relative;\n",
       "  display: inline-block;\n",
       "}\n",
       "\n",
       ".tooltip .tooltiptext {\n",
       "  visibility: hidden;\n",
       "  width: max-content;\n",
       "  max-width: 280px;\n",
       "  background-color: #00bcd4;\n",
       "  text-align: left;\n",
       "  color: white;\n",
       "  border-radius: 4px;\n",
       "  padding: 4px 4px;\n",
       "  border: solid 0px black;\n",
       "  line-height: 1em;\n",
       "\n",
       "  /* Position the tooltip */\n",
       "  position: absolute;\n",
       "  z-index: 1;\n",
       "}\n",
       "\n",
       ".tooltip:hover .tooltiptext {\n",
       "  visibility: visible;\n",
       "}\n",
       "</style>"
      ],
      "text/plain": [
       "<IPython.core.display.HTML object>"
      ]
     },
     "metadata": {},
     "output_type": "display_data"
    }
   ],
   "source": [
    "@patch\n",
    "def _do_one_batch(self:Learner):\n",
    "    self.pred = self.model(*self.xb)\n",
    "    self('after_pred')\n",
    "    if len(self.yb):\n",
    "        self.loss_grad = self.loss_func(self.pred, *self.yb)\n",
    "        self.loss = self.loss_grad.clone()\n",
    "    self('after_loss')\n",
    "    if not self.training or not len(self.yb): return\n",
    "    self('before_backward')\n",
    "    self.loss_grad.backward()\n",
    "    self._with_events(self.opt.step, 'step', CancelStepException)\n",
    "    self.opt.zero_grad()"
   ]
  },
  {
   "cell_type": "markdown",
   "id": "digital-aberdeen",
   "metadata": {},
   "source": [
    "### Configuration"
   ]
  },
  {
   "cell_type": "code",
   "execution_count": 11,
   "id": "third-promise",
   "metadata": {},
   "outputs": [
    {
     "data": {
      "text/html": [
       "<style>\n",
       ".tooltip {\n",
       "  position: relative;\n",
       "  display: inline-block;\n",
       "}\n",
       "\n",
       ".tooltip .tooltiptext {\n",
       "  visibility: hidden;\n",
       "  width: max-content;\n",
       "  max-width: 280px;\n",
       "  background-color: #00bcd4;\n",
       "  text-align: left;\n",
       "  color: white;\n",
       "  border-radius: 4px;\n",
       "  padding: 4px 4px;\n",
       "  border: solid 0px black;\n",
       "  line-height: 1em;\n",
       "\n",
       "  /* Position the tooltip */\n",
       "  position: absolute;\n",
       "  z-index: 1;\n",
       "}\n",
       "\n",
       ".tooltip:hover .tooltiptext {\n",
       "  visibility: visible;\n",
       "}\n",
       "</style>"
      ],
      "text/plain": [
       "<IPython.core.display.HTML object>"
      ]
     },
     "metadata": {},
     "output_type": "display_data"
    }
   ],
   "source": [
    "class CONFIG():\n",
    "    \n",
    "    # data paths\n",
    "    data_path = Path('/home/jupyter/data_2/')\n",
    "    data_path_zarr = Path('/home/jupyter/train_scale2')\n",
    "    mask_preproc_dir = '/home/jupyter/masks_scale2'\n",
    "    \n",
    "    # deepflash2 dataset\n",
    "    # scale = 1.5 # data is already downscaled to 2, so absulute downscale is 3\n",
    "    scale = 1 # data is already downscaled to 2, so absulute downscale is 3\n",
    "    tile_shape = (TILE_SHAPE, TILE_SHAPE)\n",
    "    padding = (0,0) # Border overlap for prediction\n",
    "    n_jobs = NUM_WORKERS\n",
    "    sample_mult = 200 # Sample 100 tiles from each image, per epoch\n",
    "    val_length = 500 # Randomly sample 500 validation tiles\n",
    "    stats = np.array([0.61561477, 0.5179343 , 0.64067212]), np.array([0.2915353 , 0.31549066, 0.28647661])\n",
    "    \n",
    "    # deepflash2 augmentation options\n",
    "    zoom_sigma = 0.1\n",
    "    flip = True\n",
    "    max_rotation = 360\n",
    "    deformation_grid_size = (150,150)\n",
    "    deformation_magnitude = (10,10)\n",
    "\n",
    "    # pytorch model (segmentation_models_pytorch)\n",
    "    encoder_name = ENCODER_NAME\n",
    "    encoder_weights = ENCODER_WEIGHTS\n",
    "    in_channels = 3\n",
    "    classes = 2\n",
    "    \n",
    "    # fastai Learner \n",
    "    mixed_precision_training = True\n",
    "    batch_size = 6\n",
    "    weight_decay = 0.01\n",
    "    loss_func = CrossEntropyLossFlat(axis=1)\n",
    "    metrics = [Iou(), Dice_f1()]\n",
    "    optimizer = ranger\n",
    "    max_learning_rate = 1e-3\n",
    "    epochs = 15\n",
    "    \n",
    "cfg = CONFIG()"
   ]
  },
  {
   "cell_type": "code",
   "execution_count": 12,
   "id": "brilliant-salmon",
   "metadata": {},
   "outputs": [
    {
     "data": {
      "text/html": [
       "<style>\n",
       ".tooltip {\n",
       "  position: relative;\n",
       "  display: inline-block;\n",
       "}\n",
       "\n",
       ".tooltip .tooltiptext {\n",
       "  visibility: hidden;\n",
       "  width: max-content;\n",
       "  max-width: 280px;\n",
       "  background-color: #00bcd4;\n",
       "  text-align: left;\n",
       "  color: white;\n",
       "  border-radius: 4px;\n",
       "  padding: 4px 4px;\n",
       "  border: solid 0px black;\n",
       "  line-height: 1em;\n",
       "\n",
       "  /* Position the tooltip */\n",
       "  position: absolute;\n",
       "  z-index: 1;\n",
       "}\n",
       "\n",
       ".tooltip:hover .tooltiptext {\n",
       "  visibility: visible;\n",
       "}\n",
       "</style>"
      ],
      "text/plain": [
       "<IPython.core.display.HTML object>"
      ]
     },
     "metadata": {},
     "output_type": "display_data"
    }
   ],
   "source": [
    "# Albumentations augmentations\n",
    "# Inspired by https://www.kaggle.com/iafoss/hubmap-pytorch-fast-ai-starter\n",
    "# deepflash2 augmentations are only affine transformations\n",
    "tfms = alb.OneOf([\n",
    "    alb.HueSaturationValue(10,15,10),\n",
    "    alb.CLAHE(clip_limit=2),\n",
    "    alb.RandomBrightnessContrast(),\n",
    "    alb.OneOf([\n",
    "        alb.MotionBlur(p=0.2),\n",
    "        alb.MedianBlur(blur_limit=3, p=0.1),\n",
    "        alb.Blur(blur_limit=3, p=0.1),\n",
    "    ], p=0.2)\n",
    "], p=0.3)"
   ]
  },
  {
   "cell_type": "code",
   "execution_count": 13,
   "id": "turkish-label",
   "metadata": {},
   "outputs": [
    {
     "data": {
      "text/html": [
       "<style>\n",
       ".tooltip {\n",
       "  position: relative;\n",
       "  display: inline-block;\n",
       "}\n",
       "\n",
       ".tooltip .tooltiptext {\n",
       "  visibility: hidden;\n",
       "  width: max-content;\n",
       "  max-width: 280px;\n",
       "  background-color: #00bcd4;\n",
       "  text-align: left;\n",
       "  color: white;\n",
       "  border-radius: 4px;\n",
       "  padding: 4px 4px;\n",
       "  border: solid 0px black;\n",
       "  line-height: 1em;\n",
       "\n",
       "  /* Position the tooltip */\n",
       "  position: absolute;\n",
       "  z-index: 1;\n",
       "}\n",
       "\n",
       ".tooltip:hover .tooltiptext {\n",
       "  visibility: visible;\n",
       "}\n",
       "</style>"
      ],
      "text/plain": [
       "<IPython.core.display.HTML object>"
      ]
     },
     "metadata": {},
     "output_type": "display_data"
    }
   ],
   "source": [
    "df_train = pd.read_csv(cfg.data_path/'train.csv')\n",
    "df_info = pd.read_csv(cfg.data_path/'HuBMAP-20-dataset_information.csv')\n",
    "\n",
    "files = [x for x in cfg.data_path_zarr.iterdir() if x.is_dir() if not x.name.startswith('.')]\n",
    "label_fn = lambda o: o"
   ]
  },
  {
   "cell_type": "code",
   "execution_count": 14,
   "id": "restricted-drilling",
   "metadata": {},
   "outputs": [
    {
     "data": {
      "text/html": [
       "<style>\n",
       ".tooltip {\n",
       "  position: relative;\n",
       "  display: inline-block;\n",
       "}\n",
       "\n",
       ".tooltip .tooltiptext {\n",
       "  visibility: hidden;\n",
       "  width: max-content;\n",
       "  max-width: 280px;\n",
       "  background-color: #00bcd4;\n",
       "  text-align: left;\n",
       "  color: white;\n",
       "  border-radius: 4px;\n",
       "  padding: 4px 4px;\n",
       "  border: solid 0px black;\n",
       "  line-height: 1em;\n",
       "\n",
       "  /* Position the tooltip */\n",
       "  position: absolute;\n",
       "  z-index: 1;\n",
       "}\n",
       "\n",
       ".tooltip:hover .tooltiptext {\n",
       "  visibility: visible;\n",
       "}\n",
       "</style>"
      ],
      "text/plain": [
       "<IPython.core.display.HTML object>"
      ]
     },
     "metadata": {},
     "output_type": "display_data"
    },
    {
     "name": "stdout",
     "output_type": "stream",
     "text": [
      "labels\tpdfs\n"
     ]
    }
   ],
   "source": [
    "!ls {cfg.mask_preproc_dir}"
   ]
  },
  {
   "cell_type": "markdown",
   "id": "characteristic-ottawa",
   "metadata": {},
   "source": [
    "### Training"
   ]
  },
  {
   "cell_type": "code",
   "execution_count": 15,
   "id": "framed-aquatic",
   "metadata": {},
   "outputs": [
    {
     "data": {
      "text/html": [
       "<style>\n",
       ".tooltip {\n",
       "  position: relative;\n",
       "  display: inline-block;\n",
       "}\n",
       "\n",
       ".tooltip .tooltiptext {\n",
       "  visibility: hidden;\n",
       "  width: max-content;\n",
       "  max-width: 280px;\n",
       "  background-color: #00bcd4;\n",
       "  text-align: left;\n",
       "  color: white;\n",
       "  border-radius: 4px;\n",
       "  padding: 4px 4px;\n",
       "  border: solid 0px black;\n",
       "  line-height: 1em;\n",
       "\n",
       "  /* Position the tooltip */\n",
       "  position: absolute;\n",
       "  z-index: 1;\n",
       "}\n",
       "\n",
       ".tooltip:hover .tooltiptext {\n",
       "  visibility: visible;\n",
       "}\n",
       "</style>"
      ],
      "text/plain": [
       "<IPython.core.display.HTML object>"
      ]
     },
     "metadata": {},
     "output_type": "display_data"
    },
    {
     "name": "stdout",
     "output_type": "stream",
     "text": [
      "Using preprocessed masks from /home/jupyter/masks_scale2\n",
      "Using preprocessed masks from /home/jupyter/masks_scale2\n"
     ]
    },
    {
     "data": {
      "text/html": [],
      "text/plain": [
       "<IPython.core.display.HTML object>"
      ]
     },
     "metadata": {},
     "output_type": "display_data"
    }
   ],
   "source": [
    "# Datasets\n",
    "ds_kwargs = {\n",
    "    'tile_shape':cfg.tile_shape,\n",
    "    'padding':cfg.padding,\n",
    "    'scale': cfg.scale,\n",
    "    'n_jobs': cfg.n_jobs, \n",
    "    'preproc_dir': cfg.mask_preproc_dir, \n",
    "    'val_length':cfg.val_length, \n",
    "    'sample_mult':cfg.sample_mult,\n",
    "    'loss_weights':False,\n",
    "    'zoom_sigma': cfg.zoom_sigma,\n",
    "    'flip' : cfg.flip,\n",
    "    'max_rotation': cfg.max_rotation,\n",
    "    'deformation_grid_size' : cfg.deformation_grid_size,\n",
    "    'deformation_magnitude' : cfg.deformation_magnitude,\n",
    "    'albumentations_tfms': tfms\n",
    "}\n",
    "\n",
    "train_ds = RandomTileDataset(files, label_fn=label_fn, **ds_kwargs)\n",
    "valid_ds = TileDataset(files, label_fn=label_fn, **ds_kwargs, is_zarr=True)"
   ]
  },
  {
   "cell_type": "code",
   "execution_count": 16,
   "id": "regional-revision",
   "metadata": {},
   "outputs": [
    {
     "data": {
      "text/html": [
       "<style>\n",
       ".tooltip {\n",
       "  position: relative;\n",
       "  display: inline-block;\n",
       "}\n",
       "\n",
       ".tooltip .tooltiptext {\n",
       "  visibility: hidden;\n",
       "  width: max-content;\n",
       "  max-width: 280px;\n",
       "  background-color: #00bcd4;\n",
       "  text-align: left;\n",
       "  color: white;\n",
       "  border-radius: 4px;\n",
       "  padding: 4px 4px;\n",
       "  border: solid 0px black;\n",
       "  line-height: 1em;\n",
       "\n",
       "  /* Position the tooltip */\n",
       "  position: absolute;\n",
       "  z-index: 1;\n",
       "}\n",
       "\n",
       ".tooltip:hover .tooltiptext {\n",
       "  visibility: visible;\n",
       "}\n",
       "</style>"
      ],
      "text/plain": [
       "<IPython.core.display.HTML object>"
      ]
     },
     "metadata": {},
     "output_type": "display_data"
    },
    {
     "name": "stdout",
     "output_type": "stream",
     "text": [
      "Reading cached slices, files and masks\n"
     ]
    },
    {
     "data": {
      "application/vnd.jupyter.widget-view+json": {
       "model_id": "737f7325a36c42eea57010f633c516ad",
       "version_major": 2,
       "version_minor": 0
      },
      "text/plain": [
       "  0%|          | 0/15 [00:00<?, ?it/s]"
      ]
     },
     "metadata": {},
     "output_type": "display_data"
    },
    {
     "name": "stderr",
     "output_type": "stream",
     "text": [
      "/opt/conda/lib/python3.6/site-packages/rasterio/__init__.py:207: NotGeoreferencedWarning: Dataset has no geotransform, gcps, or rpcs. The identity matrix be returned.\n",
      "  s = DatasetReader(path, driver=driver, sharing=sharing, **kwargs)\n"
     ]
    }
   ],
   "source": [
    "root_dir = cfg.data_path\n",
    "slices_path = SLICES_PATH\n",
    "transform = alb.Compose([\n",
    "        alb.Resize(TILE_SHAPE, TILE_SHAPE, p=1.0),\n",
    "        alb.HorizontalFlip(),\n",
    "        alb.VerticalFlip(),\n",
    "        alb.RandomRotate90(),\n",
    "        alb.ShiftScaleRotate(shift_limit=0.0625, scale_limit=0.2, rotate_limit=20, p=0.9, \n",
    "                         border_mode=cv2.BORDER_REFLECT),\n",
    "        alb.OneOf([\n",
    "            alb.OpticalDistortion(p=0.4),\n",
    "            alb.GridDistortion(p=.1, border_mode=cv2.BORDER_REFLECT),\n",
    "            alb.IAAPiecewiseAffine(p=0.4),\n",
    "        ], p=0.3),\n",
    "        alb.OneOf([\n",
    "            alb.MotionBlur(p=0.2),\n",
    "            alb.MedianBlur(blur_limit=3, p=0.1),\n",
    "            alb.Blur(blur_limit=3, p=0.1),\n",
    "        ]),\n",
    "        alb.OneOf([\n",
    "            alb.HueSaturationValue(10,15,10),\n",
    "            alb.CLAHE(clip_limit=3),\n",
    "            alb.RandomBrightnessContrast(),\n",
    "            alb.RandomGamma()\n",
    "        ], p=0.5)\n",
    "    ], p=1.0)\n",
    "window = WINDOW\n",
    "overlap = OVERLAP\n",
    "threshold = THRESHOLD\n",
    "ds_2_kwargs = {\n",
    "    'mode': 'train',\n",
    "    'valid_transform': None,\n",
    "    'shifting': False,\n",
    "    'rebuild_slices': False\n",
    "}\n",
    "\n",
    "train_ds_2 = HubDataset(root_dir, slices_path, transform, window, overlap, threshold, **ds_2_kwargs)"
   ]
  },
  {
   "cell_type": "code",
   "execution_count": 17,
   "id": "ranging-millennium",
   "metadata": {},
   "outputs": [
    {
     "data": {
      "text/html": [
       "<style>\n",
       ".tooltip {\n",
       "  position: relative;\n",
       "  display: inline-block;\n",
       "}\n",
       "\n",
       ".tooltip .tooltiptext {\n",
       "  visibility: hidden;\n",
       "  width: max-content;\n",
       "  max-width: 280px;\n",
       "  background-color: #00bcd4;\n",
       "  text-align: left;\n",
       "  color: white;\n",
       "  border-radius: 4px;\n",
       "  padding: 4px 4px;\n",
       "  border: solid 0px black;\n",
       "  line-height: 1em;\n",
       "\n",
       "  /* Position the tooltip */\n",
       "  position: absolute;\n",
       "  z-index: 1;\n",
       "}\n",
       "\n",
       ".tooltip:hover .tooltiptext {\n",
       "  visibility: visible;\n",
       "}\n",
       "</style>"
      ],
      "text/plain": [
       "<IPython.core.display.HTML object>"
      ]
     },
     "metadata": {},
     "output_type": "display_data"
    },
    {
     "data": {
      "text/plain": [
       "total: 2338, skipped: 0 mode: train"
      ]
     },
     "execution_count": 17,
     "metadata": {},
     "output_type": "execute_result"
    }
   ],
   "source": [
    "train_ds_2"
   ]
  },
  {
   "cell_type": "code",
   "execution_count": 18,
   "id": "posted-contractor",
   "metadata": {},
   "outputs": [
    {
     "data": {
      "text/html": [
       "<style>\n",
       ".tooltip {\n",
       "  position: relative;\n",
       "  display: inline-block;\n",
       "}\n",
       "\n",
       ".tooltip .tooltiptext {\n",
       "  visibility: hidden;\n",
       "  width: max-content;\n",
       "  max-width: 280px;\n",
       "  background-color: #00bcd4;\n",
       "  text-align: left;\n",
       "  color: white;\n",
       "  border-radius: 4px;\n",
       "  padding: 4px 4px;\n",
       "  border: solid 0px black;\n",
       "  line-height: 1em;\n",
       "\n",
       "  /* Position the tooltip */\n",
       "  position: absolute;\n",
       "  z-index: 1;\n",
       "}\n",
       "\n",
       ".tooltip:hover .tooltiptext {\n",
       "  visibility: visible;\n",
       "}\n",
       "</style>"
      ],
      "text/plain": [
       "<IPython.core.display.HTML object>"
      ]
     },
     "metadata": {},
     "output_type": "display_data"
    }
   ],
   "source": [
    "image, mask = train_ds[0]"
   ]
  },
  {
   "cell_type": "code",
   "execution_count": 19,
   "id": "ruled-occasion",
   "metadata": {},
   "outputs": [
    {
     "data": {
      "text/html": [
       "<style>\n",
       ".tooltip {\n",
       "  position: relative;\n",
       "  display: inline-block;\n",
       "}\n",
       "\n",
       ".tooltip .tooltiptext {\n",
       "  visibility: hidden;\n",
       "  width: max-content;\n",
       "  max-width: 280px;\n",
       "  background-color: #00bcd4;\n",
       "  text-align: left;\n",
       "  color: white;\n",
       "  border-radius: 4px;\n",
       "  padding: 4px 4px;\n",
       "  border: solid 0px black;\n",
       "  line-height: 1em;\n",
       "\n",
       "  /* Position the tooltip */\n",
       "  position: absolute;\n",
       "  z-index: 1;\n",
       "}\n",
       "\n",
       ".tooltip:hover .tooltiptext {\n",
       "  visibility: visible;\n",
       "}\n",
       "</style>"
      ],
      "text/plain": [
       "<IPython.core.display.HTML object>"
      ]
     },
     "metadata": {},
     "output_type": "display_data"
    },
    {
     "data": {
      "text/plain": [
       "(torch.Size([3, 768, 768]), torch.Size([768, 768]))"
      ]
     },
     "execution_count": 19,
     "metadata": {},
     "output_type": "execute_result"
    }
   ],
   "source": [
    "image.shape, mask.shape"
   ]
  },
  {
   "cell_type": "code",
   "execution_count": 20,
   "id": "united-fairy",
   "metadata": {},
   "outputs": [
    {
     "data": {
      "text/html": [
       "<style>\n",
       ".tooltip {\n",
       "  position: relative;\n",
       "  display: inline-block;\n",
       "}\n",
       "\n",
       ".tooltip .tooltiptext {\n",
       "  visibility: hidden;\n",
       "  width: max-content;\n",
       "  max-width: 280px;\n",
       "  background-color: #00bcd4;\n",
       "  text-align: left;\n",
       "  color: white;\n",
       "  border-radius: 4px;\n",
       "  padding: 4px 4px;\n",
       "  border: solid 0px black;\n",
       "  line-height: 1em;\n",
       "\n",
       "  /* Position the tooltip */\n",
       "  position: absolute;\n",
       "  z-index: 1;\n",
       "}\n",
       "\n",
       ".tooltip:hover .tooltiptext {\n",
       "  visibility: visible;\n",
       "}\n",
       "</style>"
      ],
      "text/plain": [
       "<IPython.core.display.HTML object>"
      ]
     },
     "metadata": {},
     "output_type": "display_data"
    }
   ],
   "source": [
    "image, mask = train_ds_2[0]"
   ]
  },
  {
   "cell_type": "code",
   "execution_count": 21,
   "id": "collected-teaching",
   "metadata": {},
   "outputs": [
    {
     "data": {
      "text/html": [
       "<style>\n",
       ".tooltip {\n",
       "  position: relative;\n",
       "  display: inline-block;\n",
       "}\n",
       "\n",
       ".tooltip .tooltiptext {\n",
       "  visibility: hidden;\n",
       "  width: max-content;\n",
       "  max-width: 280px;\n",
       "  background-color: #00bcd4;\n",
       "  text-align: left;\n",
       "  color: white;\n",
       "  border-radius: 4px;\n",
       "  padding: 4px 4px;\n",
       "  border: solid 0px black;\n",
       "  line-height: 1em;\n",
       "\n",
       "  /* Position the tooltip */\n",
       "  position: absolute;\n",
       "  z-index: 1;\n",
       "}\n",
       "\n",
       ".tooltip:hover .tooltiptext {\n",
       "  visibility: visible;\n",
       "}\n",
       "</style>"
      ],
      "text/plain": [
       "<IPython.core.display.HTML object>"
      ]
     },
     "metadata": {},
     "output_type": "display_data"
    },
    {
     "data": {
      "text/plain": [
       "(torch.Size([3, 768, 768]), torch.Size([1, 768, 768]), torch.int64)"
      ]
     },
     "execution_count": 21,
     "metadata": {},
     "output_type": "execute_result"
    }
   ],
   "source": [
    "image.shape, mask.shape, mask.dtype"
   ]
  },
  {
   "cell_type": "code",
   "execution_count": 22,
   "id": "social-likelihood",
   "metadata": {},
   "outputs": [
    {
     "data": {
      "text/html": [
       "<style>\n",
       ".tooltip {\n",
       "  position: relative;\n",
       "  display: inline-block;\n",
       "}\n",
       "\n",
       ".tooltip .tooltiptext {\n",
       "  visibility: hidden;\n",
       "  width: max-content;\n",
       "  max-width: 280px;\n",
       "  background-color: #00bcd4;\n",
       "  text-align: left;\n",
       "  color: white;\n",
       "  border-radius: 4px;\n",
       "  padding: 4px 4px;\n",
       "  border: solid 0px black;\n",
       "  line-height: 1em;\n",
       "\n",
       "  /* Position the tooltip */\n",
       "  position: absolute;\n",
       "  z-index: 1;\n",
       "}\n",
       "\n",
       ".tooltip:hover .tooltiptext {\n",
       "  visibility: visible;\n",
       "}\n",
       "</style>"
      ],
      "text/plain": [
       "<IPython.core.display.HTML object>"
      ]
     },
     "metadata": {},
     "output_type": "display_data"
    }
   ],
   "source": [
    "# Dataloader and learner\n",
    "dls = DataLoaders.from_dsets(train_ds_2, valid_ds, bs=cfg.batch_size, after_batch=Normalize.from_stats(*cfg.stats))\n",
    "if torch.cuda.is_available(): dls.cuda(), model.cuda()\n",
    "# cbs = [SaveModelCallback(monitor='iou'), ElasticDeformCallback]\n",
    "cbs = [SaveModelCallback(monitor='iou')]\n",
    "learn = Learner(dls, model, metrics=cfg.metrics, wd=cfg.weight_decay, loss_func=cfg.loss_func, opt_func=ranger, cbs=cbs)\n",
    "if cfg.mixed_precision_training: learn.to_fp16()"
   ]
  },
  {
   "cell_type": "code",
   "execution_count": 23,
   "id": "heard-margin",
   "metadata": {},
   "outputs": [
    {
     "data": {
      "text/html": [
       "<style>\n",
       ".tooltip {\n",
       "  position: relative;\n",
       "  display: inline-block;\n",
       "}\n",
       "\n",
       ".tooltip .tooltiptext {\n",
       "  visibility: hidden;\n",
       "  width: max-content;\n",
       "  max-width: 280px;\n",
       "  background-color: #00bcd4;\n",
       "  text-align: left;\n",
       "  color: white;\n",
       "  border-radius: 4px;\n",
       "  padding: 4px 4px;\n",
       "  border: solid 0px black;\n",
       "  line-height: 1em;\n",
       "\n",
       "  /* Position the tooltip */\n",
       "  position: absolute;\n",
       "  z-index: 1;\n",
       "}\n",
       "\n",
       ".tooltip:hover .tooltiptext {\n",
       "  visibility: visible;\n",
       "}\n",
       "</style>"
      ],
      "text/plain": [
       "<IPython.core.display.HTML object>"
      ]
     },
     "metadata": {},
     "output_type": "display_data"
    },
    {
     "data": {
      "text/html": [
       "<table border=\"1\" class=\"dataframe\">\n",
       "  <thead>\n",
       "    <tr style=\"text-align: left;\">\n",
       "      <th>epoch</th>\n",
       "      <th>train_loss</th>\n",
       "      <th>valid_loss</th>\n",
       "      <th>iou</th>\n",
       "      <th>dice_f1</th>\n",
       "      <th>time</th>\n",
       "    </tr>\n",
       "  </thead>\n",
       "  <tbody>\n",
       "    <tr>\n",
       "      <td>0</td>\n",
       "      <td>0.265953</td>\n",
       "      <td>0.201913</td>\n",
       "      <td>0.778552</td>\n",
       "      <td>0.875490</td>\n",
       "      <td>07:38</td>\n",
       "    </tr>\n",
       "    <tr>\n",
       "      <td>1</td>\n",
       "      <td>0.042062</td>\n",
       "      <td>0.016037</td>\n",
       "      <td>0.835664</td>\n",
       "      <td>0.910476</td>\n",
       "      <td>07:29</td>\n",
       "    </tr>\n",
       "    <tr>\n",
       "      <td>2</td>\n",
       "      <td>0.028031</td>\n",
       "      <td>0.017509</td>\n",
       "      <td>0.773178</td>\n",
       "      <td>0.872082</td>\n",
       "      <td>07:29</td>\n",
       "    </tr>\n",
       "    <tr>\n",
       "      <td>3</td>\n",
       "      <td>0.025476</td>\n",
       "      <td>0.006907</td>\n",
       "      <td>0.868902</td>\n",
       "      <td>0.929853</td>\n",
       "      <td>07:28</td>\n",
       "    </tr>\n",
       "    <tr>\n",
       "      <td>4</td>\n",
       "      <td>0.024258</td>\n",
       "      <td>0.008150</td>\n",
       "      <td>0.850548</td>\n",
       "      <td>0.919239</td>\n",
       "      <td>07:29</td>\n",
       "    </tr>\n",
       "    <tr>\n",
       "      <td>5</td>\n",
       "      <td>0.023788</td>\n",
       "      <td>0.007795</td>\n",
       "      <td>0.859970</td>\n",
       "      <td>0.924714</td>\n",
       "      <td>07:29</td>\n",
       "    </tr>\n",
       "    <tr>\n",
       "      <td>6</td>\n",
       "      <td>0.018579</td>\n",
       "      <td>0.006862</td>\n",
       "      <td>0.870507</td>\n",
       "      <td>0.930771</td>\n",
       "      <td>07:27</td>\n",
       "    </tr>\n",
       "    <tr>\n",
       "      <td>7</td>\n",
       "      <td>0.018751</td>\n",
       "      <td>0.006403</td>\n",
       "      <td>0.868582</td>\n",
       "      <td>0.929670</td>\n",
       "      <td>07:28</td>\n",
       "    </tr>\n",
       "    <tr>\n",
       "      <td>8</td>\n",
       "      <td>0.020413</td>\n",
       "      <td>0.005886</td>\n",
       "      <td>0.891091</td>\n",
       "      <td>0.942410</td>\n",
       "      <td>07:28</td>\n",
       "    </tr>\n",
       "    <tr>\n",
       "      <td>9</td>\n",
       "      <td>0.017748</td>\n",
       "      <td>0.005901</td>\n",
       "      <td>0.881744</td>\n",
       "      <td>0.937156</td>\n",
       "      <td>07:29</td>\n",
       "    </tr>\n",
       "    <tr>\n",
       "      <td>10</td>\n",
       "      <td>0.017948</td>\n",
       "      <td>0.006053</td>\n",
       "      <td>0.884310</td>\n",
       "      <td>0.938604</td>\n",
       "      <td>07:26</td>\n",
       "    </tr>\n",
       "    <tr>\n",
       "      <td>11</td>\n",
       "      <td>0.015905</td>\n",
       "      <td>0.004916</td>\n",
       "      <td>0.897377</td>\n",
       "      <td>0.945913</td>\n",
       "      <td>07:28</td>\n",
       "    </tr>\n",
       "    <tr>\n",
       "      <td>12</td>\n",
       "      <td>0.015257</td>\n",
       "      <td>0.005115</td>\n",
       "      <td>0.894384</td>\n",
       "      <td>0.944248</td>\n",
       "      <td>07:29</td>\n",
       "    </tr>\n",
       "    <tr>\n",
       "      <td>13</td>\n",
       "      <td>0.015507</td>\n",
       "      <td>0.004926</td>\n",
       "      <td>0.896594</td>\n",
       "      <td>0.945478</td>\n",
       "      <td>07:29</td>\n",
       "    </tr>\n",
       "    <tr>\n",
       "      <td>14</td>\n",
       "      <td>0.014516</td>\n",
       "      <td>0.004837</td>\n",
       "      <td>0.895897</td>\n",
       "      <td>0.945091</td>\n",
       "      <td>07:30</td>\n",
       "    </tr>\n",
       "  </tbody>\n",
       "</table>"
      ],
      "text/plain": [
       "<IPython.core.display.HTML object>"
      ]
     },
     "metadata": {},
     "output_type": "display_data"
    },
    {
     "name": "stdout",
     "output_type": "stream",
     "text": [
      "Better model found at epoch 0 with iou value: 0.7785524627166854.\n",
      "Better model found at epoch 1 with iou value: 0.8356642944936421.\n",
      "Better model found at epoch 3 with iou value: 0.8689021287776502.\n",
      "Better model found at epoch 6 with iou value: 0.8705065627607955.\n",
      "Better model found at epoch 8 with iou value: 0.8910911708091406.\n",
      "Better model found at epoch 11 with iou value: 0.8973774162642932.\n"
     ]
    },
    {
     "data": {
      "image/png": "[encoded data removed]",
      "text/plain": [
       "<Figure size 1296x288 with 3 Axes>"
      ]
     },
     "metadata": {
      "needs_background": "light"
     },
     "output_type": "display_data"
    }
   ],
   "source": [
    "# Fit\n",
    "learn.fit_one_cycle(cfg.epochs, lr_max=cfg.max_learning_rate)\n",
    "learn.recorder.plot_metrics()"
   ]
  },
  {
   "cell_type": "code",
   "execution_count": 24,
   "id": "divine-austria",
   "metadata": {},
   "outputs": [
    {
     "data": {
      "text/html": [
       "<style>\n",
       ".tooltip {\n",
       "  position: relative;\n",
       "  display: inline-block;\n",
       "}\n",
       "\n",
       ".tooltip .tooltiptext {\n",
       "  visibility: hidden;\n",
       "  width: max-content;\n",
       "  max-width: 280px;\n",
       "  background-color: #00bcd4;\n",
       "  text-align: left;\n",
       "  color: white;\n",
       "  border-radius: 4px;\n",
       "  padding: 4px 4px;\n",
       "  border: solid 0px black;\n",
       "  line-height: 1em;\n",
       "\n",
       "  /* Position the tooltip */\n",
       "  position: absolute;\n",
       "  z-index: 1;\n",
       "}\n",
       "\n",
       ".tooltip:hover .tooltiptext {\n",
       "  visibility: visible;\n",
       "}\n",
       "</style>"
      ],
      "text/plain": [
       "<IPython.core.display.HTML object>"
      ]
     },
     "metadata": {},
     "output_type": "display_data"
    }
   ],
   "source": [
    "!cp models/model.pth models/hubmap_simple_training_{ARCH}_{ENCODER_NAME}_b{cfg.batch_size}.pth"
   ]
  },
  {
   "cell_type": "code",
   "execution_count": 32,
   "id": "public-airfare",
   "metadata": {},
   "outputs": [
    {
     "data": {
      "text/html": [
       "<style>\n",
       ".tooltip {\n",
       "  position: relative;\n",
       "  display: inline-block;\n",
       "}\n",
       "\n",
       ".tooltip .tooltiptext {\n",
       "  visibility: hidden;\n",
       "  width: max-content;\n",
       "  max-width: 280px;\n",
       "  background-color: #00bcd4;\n",
       "  text-align: left;\n",
       "  color: white;\n",
       "  border-radius: 4px;\n",
       "  padding: 4px 4px;\n",
       "  border: solid 0px black;\n",
       "  line-height: 1em;\n",
       "\n",
       "  /* Position the tooltip */\n",
       "  position: absolute;\n",
       "  z-index: 1;\n",
       "}\n",
       "\n",
       ".tooltip:hover .tooltiptext {\n",
       "  visibility: visible;\n",
       "}\n",
       "</style>"
      ],
      "text/plain": [
       "<IPython.core.display.HTML object>"
      ]
     },
     "metadata": {},
     "output_type": "display_data"
    }
   ],
   "source": [
    "dls = DataLoaders.from_dsets(train_ds, valid_ds, bs=cfg.batch_size, after_batch=Normalize.from_stats(*cfg.stats))\n",
    "if torch.cuda.is_available(): dls.cuda(), model.cuda()\n",
    "cbs = [SaveModelCallback(monitor='iou'), ElasticDeformCallback]\n",
    "learn = Learner(dls, learn.model, metrics=cfg.metrics, wd=cfg.weight_decay, loss_func=cfg.loss_func, opt_func=ranger, cbs=cbs)\n",
    "if cfg.mixed_precision_training: learn.to_fp16()"
   ]
  },
  {
   "cell_type": "code",
   "execution_count": 33,
   "id": "disciplinary-helena",
   "metadata": {},
   "outputs": [
    {
     "data": {
      "text/html": [
       "<style>\n",
       ".tooltip {\n",
       "  position: relative;\n",
       "  display: inline-block;\n",
       "}\n",
       "\n",
       ".tooltip .tooltiptext {\n",
       "  visibility: hidden;\n",
       "  width: max-content;\n",
       "  max-width: 280px;\n",
       "  background-color: #00bcd4;\n",
       "  text-align: left;\n",
       "  color: white;\n",
       "  border-radius: 4px;\n",
       "  padding: 4px 4px;\n",
       "  border: solid 0px black;\n",
       "  line-height: 1em;\n",
       "\n",
       "  /* Position the tooltip */\n",
       "  position: absolute;\n",
       "  z-index: 1;\n",
       "}\n",
       "\n",
       ".tooltip:hover .tooltiptext {\n",
       "  visibility: visible;\n",
       "}\n",
       "</style>"
      ],
      "text/plain": [
       "<IPython.core.display.HTML object>"
      ]
     },
     "metadata": {},
     "output_type": "display_data"
    },
    {
     "data": {
      "text/html": [
       "<table border=\"1\" class=\"dataframe\">\n",
       "  <thead>\n",
       "    <tr style=\"text-align: left;\">\n",
       "      <th>epoch</th>\n",
       "      <th>train_loss</th>\n",
       "      <th>valid_loss</th>\n",
       "      <th>iou</th>\n",
       "      <th>dice_f1</th>\n",
       "      <th>time</th>\n",
       "    </tr>\n",
       "  </thead>\n",
       "  <tbody>\n",
       "    <tr>\n",
       "      <td>0</td>\n",
       "      <td>0.013637</td>\n",
       "      <td>0.004663</td>\n",
       "      <td>0.904237</td>\n",
       "      <td>0.949711</td>\n",
       "      <td>09:29</td>\n",
       "    </tr>\n",
       "    <tr>\n",
       "      <td>1</td>\n",
       "      <td>0.010640</td>\n",
       "      <td>0.004683</td>\n",
       "      <td>0.902132</td>\n",
       "      <td>0.948548</td>\n",
       "      <td>09:29</td>\n",
       "    </tr>\n",
       "    <tr>\n",
       "      <td>2</td>\n",
       "      <td>0.012675</td>\n",
       "      <td>0.005301</td>\n",
       "      <td>0.894320</td>\n",
       "      <td>0.944212</td>\n",
       "      <td>09:29</td>\n",
       "    </tr>\n",
       "    <tr>\n",
       "      <td>3</td>\n",
       "      <td>0.012779</td>\n",
       "      <td>0.006296</td>\n",
       "      <td>0.876271</td>\n",
       "      <td>0.934056</td>\n",
       "      <td>09:29</td>\n",
       "    </tr>\n",
       "    <tr>\n",
       "      <td>4</td>\n",
       "      <td>0.012244</td>\n",
       "      <td>0.005619</td>\n",
       "      <td>0.890313</td>\n",
       "      <td>0.941974</td>\n",
       "      <td>09:29</td>\n",
       "    </tr>\n",
       "    <tr>\n",
       "      <td>5</td>\n",
       "      <td>0.013025</td>\n",
       "      <td>0.005568</td>\n",
       "      <td>0.891469</td>\n",
       "      <td>0.942621</td>\n",
       "      <td>09:29</td>\n",
       "    </tr>\n",
       "    <tr>\n",
       "      <td>6</td>\n",
       "      <td>0.012576</td>\n",
       "      <td>0.005406</td>\n",
       "      <td>0.886041</td>\n",
       "      <td>0.939578</td>\n",
       "      <td>09:30</td>\n",
       "    </tr>\n",
       "    <tr>\n",
       "      <td>7</td>\n",
       "      <td>0.011248</td>\n",
       "      <td>0.005218</td>\n",
       "      <td>0.896266</td>\n",
       "      <td>0.945296</td>\n",
       "      <td>09:29</td>\n",
       "    </tr>\n",
       "    <tr>\n",
       "      <td>8</td>\n",
       "      <td>0.010952</td>\n",
       "      <td>0.005048</td>\n",
       "      <td>0.898342</td>\n",
       "      <td>0.946449</td>\n",
       "      <td>09:30</td>\n",
       "    </tr>\n",
       "    <tr>\n",
       "      <td>9</td>\n",
       "      <td>0.010763</td>\n",
       "      <td>0.005389</td>\n",
       "      <td>0.891170</td>\n",
       "      <td>0.942454</td>\n",
       "      <td>09:30</td>\n",
       "    </tr>\n",
       "    <tr>\n",
       "      <td>10</td>\n",
       "      <td>0.010521</td>\n",
       "      <td>0.005382</td>\n",
       "      <td>0.894747</td>\n",
       "      <td>0.944450</td>\n",
       "      <td>09:29</td>\n",
       "    </tr>\n",
       "    <tr>\n",
       "      <td>11</td>\n",
       "      <td>0.009686</td>\n",
       "      <td>0.004932</td>\n",
       "      <td>0.901679</td>\n",
       "      <td>0.948298</td>\n",
       "      <td>09:29</td>\n",
       "    </tr>\n",
       "    <tr>\n",
       "      <td>12</td>\n",
       "      <td>0.010650</td>\n",
       "      <td>0.004853</td>\n",
       "      <td>0.904801</td>\n",
       "      <td>0.950021</td>\n",
       "      <td>09:30</td>\n",
       "    </tr>\n",
       "    <tr>\n",
       "      <td>13</td>\n",
       "      <td>0.010264</td>\n",
       "      <td>0.004944</td>\n",
       "      <td>0.901124</td>\n",
       "      <td>0.947991</td>\n",
       "      <td>09:30</td>\n",
       "    </tr>\n",
       "    <tr>\n",
       "      <td>14</td>\n",
       "      <td>0.009967</td>\n",
       "      <td>0.004960</td>\n",
       "      <td>0.900944</td>\n",
       "      <td>0.947891</td>\n",
       "      <td>09:30</td>\n",
       "    </tr>\n",
       "  </tbody>\n",
       "</table>"
      ],
      "text/plain": [
       "<IPython.core.display.HTML object>"
      ]
     },
     "metadata": {},
     "output_type": "display_data"
    },
    {
     "name": "stdout",
     "output_type": "stream",
     "text": [
      "Better model found at epoch 0 with iou value: 0.9042369571742669.\n",
      "Better model found at epoch 12 with iou value: 0.9048007097048307.\n"
     ]
    },
    {
     "data": {
      "image/png": "[encoded data removed]",
      "text/plain": [
       "<Figure size 1296x288 with 3 Axes>"
      ]
     },
     "metadata": {
      "needs_background": "light"
     },
     "output_type": "display_data"
    }
   ],
   "source": [
    "# Fit\n",
    "learn.fit_one_cycle(cfg.epochs, lr_max=cfg.max_learning_rate)\n",
    "learn.recorder.plot_metrics()"
   ]
  },
  {
   "cell_type": "code",
   "execution_count": 34,
   "id": "caring-database",
   "metadata": {},
   "outputs": [
    {
     "data": {
      "text/html": [
       "<style>\n",
       ".tooltip {\n",
       "  position: relative;\n",
       "  display: inline-block;\n",
       "}\n",
       "\n",
       ".tooltip .tooltiptext {\n",
       "  visibility: hidden;\n",
       "  width: max-content;\n",
       "  max-width: 280px;\n",
       "  background-color: #00bcd4;\n",
       "  text-align: left;\n",
       "  color: white;\n",
       "  border-radius: 4px;\n",
       "  padding: 4px 4px;\n",
       "  border: solid 0px black;\n",
       "  line-height: 1em;\n",
       "\n",
       "  /* Position the tooltip */\n",
       "  position: absolute;\n",
       "  z-index: 1;\n",
       "}\n",
       "\n",
       ".tooltip:hover .tooltiptext {\n",
       "  visibility: visible;\n",
       "}\n",
       "</style>"
      ],
      "text/plain": [
       "<IPython.core.display.HTML object>"
      ]
     },
     "metadata": {},
     "output_type": "display_data"
    }
   ],
   "source": [
    "!mv models/model.pth models/hubmap_pdf_{ARCH}_{ENCODER_NAME}_b{cfg.batch_size}.pth"
   ]
  },
  {
   "cell_type": "code",
   "execution_count": null,
   "id": "empty-gamma",
   "metadata": {},
   "outputs": [],
   "source": []
  }
 ],
 "metadata": {
  "kernelspec": {
   "display_name": "Python 3",
   "language": "python",
   "name": "python3"
  },
  "language_info": {
   "codemirror_mode": {
    "name": "ipython",
    "version": 3
   },
   "file_extension": ".py",
   "mimetype": "text/x-python",
   "name": "python",
   "nbconvert_exporter": "python",
   "pygments_lexer": "ipython3",
   "version": "3.6.10"
  }
 },
 "nbformat": 4,
 "nbformat_minor": 5
}
