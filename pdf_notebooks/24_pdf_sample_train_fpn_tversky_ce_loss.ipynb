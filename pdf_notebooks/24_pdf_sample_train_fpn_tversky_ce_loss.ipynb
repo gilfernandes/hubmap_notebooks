{
 "cells": [
  {
   "cell_type": "code",
   "execution_count": 1,
   "id": "permanent-mozambique",
   "metadata": {},
   "outputs": [],
   "source": [
    "# !pip install -q git+https://github.com/matjesg/deepflash2.git"
   ]
  },
  {
   "cell_type": "code",
   "execution_count": 2,
   "id": "grand-change",
   "metadata": {},
   "outputs": [],
   "source": [
    "# !pip install zarr"
   ]
  },
  {
   "cell_type": "code",
   "execution_count": 3,
   "id": "amino-satellite",
   "metadata": {
    "tags": []
   },
   "outputs": [],
   "source": [
    "# imports\n",
    "import zarr, cv2\n",
    "import numpy as np, pandas as pd, segmentation_models_pytorch as smp\n",
    "from deepflash2.all import *\n",
    "from deepflash2.transforms import random_center\n",
    "import albumentations as alb\n",
    "import torch\n",
    "import torch.nn as nn"
   ]
  },
  {
   "cell_type": "code",
   "execution_count": 4,
   "id": "perceived-weight",
   "metadata": {},
   "outputs": [
    {
     "data": {
      "text/html": [
       "<style>\n",
       ".tooltip {\n",
       "  position: relative;\n",
       "  display: inline-block;\n",
       "}\n",
       "\n",
       ".tooltip .tooltiptext {\n",
       "  visibility: hidden;\n",
       "  width: max-content;\n",
       "  max-width: 280px;\n",
       "  background-color: #00bcd4;\n",
       "  text-align: left;\n",
       "  color: white;\n",
       "  border-radius: 4px;\n",
       "  padding: 4px 4px;\n",
       "  border: solid 0px black;\n",
       "  line-height: 1em;\n",
       "\n",
       "  /* Position the tooltip */\n",
       "  position: absolute;\n",
       "  z-index: 1;\n",
       "}\n",
       "\n",
       ".tooltip:hover .tooltiptext {\n",
       "  visibility: visible;\n",
       "}\n",
       "</style>"
      ],
      "text/plain": [
       "<IPython.core.display.HTML object>"
      ]
     },
     "metadata": {},
     "output_type": "display_data"
    }
   ],
   "source": [
    "import LovaszSoftmax.pytorch.lovasz_losses"
   ]
  },
  {
   "cell_type": "code",
   "execution_count": 5,
   "id": "colored-yellow",
   "metadata": {},
   "outputs": [
    {
     "data": {
      "text/html": [
       "<style>\n",
       ".tooltip {\n",
       "  position: relative;\n",
       "  display: inline-block;\n",
       "}\n",
       "\n",
       ".tooltip .tooltiptext {\n",
       "  visibility: hidden;\n",
       "  width: max-content;\n",
       "  max-width: 280px;\n",
       "  background-color: #00bcd4;\n",
       "  text-align: left;\n",
       "  color: white;\n",
       "  border-radius: 4px;\n",
       "  padding: 4px 4px;\n",
       "  border: solid 0px black;\n",
       "  line-height: 1em;\n",
       "\n",
       "  /* Position the tooltip */\n",
       "  position: absolute;\n",
       "  z-index: 1;\n",
       "}\n",
       "\n",
       ".tooltip:hover .tooltiptext {\n",
       "  visibility: visible;\n",
       "}\n",
       "</style>"
      ],
      "text/plain": [
       "<IPython.core.display.HTML object>"
      ]
     },
     "metadata": {},
     "output_type": "display_data"
    }
   ],
   "source": [
    "from config.global_vars import *"
   ]
  },
  {
   "cell_type": "code",
   "execution_count": 6,
   "id": "allied-nerve",
   "metadata": {},
   "outputs": [
    {
     "data": {
      "text/html": [
       "<style>\n",
       ".tooltip {\n",
       "  position: relative;\n",
       "  display: inline-block;\n",
       "}\n",
       "\n",
       ".tooltip .tooltiptext {\n",
       "  visibility: hidden;\n",
       "  width: max-content;\n",
       "  max-width: 280px;\n",
       "  background-color: #00bcd4;\n",
       "  text-align: left;\n",
       "  color: white;\n",
       "  border-radius: 4px;\n",
       "  padding: 4px 4px;\n",
       "  border: solid 0px black;\n",
       "  line-height: 1em;\n",
       "\n",
       "  /* Position the tooltip */\n",
       "  position: absolute;\n",
       "  z-index: 1;\n",
       "}\n",
       "\n",
       ".tooltip:hover .tooltiptext {\n",
       "  visibility: visible;\n",
       "}\n",
       "</style>"
      ],
      "text/plain": [
       "<IPython.core.display.HTML object>"
      ]
     },
     "metadata": {},
     "output_type": "display_data"
    }
   ],
   "source": [
    "ARCH = 'unet'"
   ]
  },
  {
   "cell_type": "code",
   "execution_count": 7,
   "id": "still-basement",
   "metadata": {},
   "outputs": [
    {
     "data": {
      "text/html": [
       "<style>\n",
       ".tooltip {\n",
       "  position: relative;\n",
       "  display: inline-block;\n",
       "}\n",
       "\n",
       ".tooltip .tooltiptext {\n",
       "  visibility: hidden;\n",
       "  width: max-content;\n",
       "  max-width: 280px;\n",
       "  background-color: #00bcd4;\n",
       "  text-align: left;\n",
       "  color: white;\n",
       "  border-radius: 4px;\n",
       "  padding: 4px 4px;\n",
       "  border: solid 0px black;\n",
       "  line-height: 1em;\n",
       "\n",
       "  /* Position the tooltip */\n",
       "  position: absolute;\n",
       "  z-index: 1;\n",
       "}\n",
       "\n",
       ".tooltip:hover .tooltiptext {\n",
       "  visibility: visible;\n",
       "}\n",
       "</style>"
      ],
      "text/plain": [
       "<IPython.core.display.HTML object>"
      ]
     },
     "metadata": {},
     "output_type": "display_data"
    },
    {
     "name": "stdout",
     "output_type": "stream",
     "text": [
      "Let's use 4 GPUs!\n"
     ]
    }
   ],
   "source": [
    "# Model\n",
    "model = smp.Unet(encoder_name=ENCODER_NAME, \n",
    "                 encoder_weights=ENCODER_WEIGHTS, \n",
    "                 in_channels=CHANNELS, \n",
    "                 classes=CLASSES)\n",
    "if torch.cuda.device_count() > 1:\n",
    "    print(\"Let's use\", torch.cuda.device_count(), \"GPUs!\")\n",
    "    model = nn.DataParallel(model)\n",
    "model.cuda();"
   ]
  },
  {
   "cell_type": "code",
   "execution_count": 8,
   "id": "portable-party",
   "metadata": {},
   "outputs": [
    {
     "data": {
      "text/html": [
       "<style>\n",
       ".tooltip {\n",
       "  position: relative;\n",
       "  display: inline-block;\n",
       "}\n",
       "\n",
       ".tooltip .tooltiptext {\n",
       "  visibility: hidden;\n",
       "  width: max-content;\n",
       "  max-width: 280px;\n",
       "  background-color: #00bcd4;\n",
       "  text-align: left;\n",
       "  color: white;\n",
       "  border-radius: 4px;\n",
       "  padding: 4px 4px;\n",
       "  border: solid 0px black;\n",
       "  line-height: 1em;\n",
       "\n",
       "  /* Position the tooltip */\n",
       "  position: absolute;\n",
       "  z-index: 1;\n",
       "}\n",
       "\n",
       ".tooltip:hover .tooltiptext {\n",
       "  visibility: visible;\n",
       "}\n",
       "</style>"
      ],
      "text/plain": [
       "<IPython.core.display.HTML object>"
      ]
     },
     "metadata": {},
     "output_type": "display_data"
    }
   ],
   "source": [
    "from fastai.vision.all import *"
   ]
  },
  {
   "cell_type": "code",
   "execution_count": 9,
   "id": "efficient-trainer",
   "metadata": {},
   "outputs": [
    {
     "data": {
      "text/html": [
       "<style>\n",
       ".tooltip {\n",
       "  position: relative;\n",
       "  display: inline-block;\n",
       "}\n",
       "\n",
       ".tooltip .tooltiptext {\n",
       "  visibility: hidden;\n",
       "  width: max-content;\n",
       "  max-width: 280px;\n",
       "  background-color: #00bcd4;\n",
       "  text-align: left;\n",
       "  color: white;\n",
       "  border-radius: 4px;\n",
       "  padding: 4px 4px;\n",
       "  border: solid 0px black;\n",
       "  line-height: 1em;\n",
       "\n",
       "  /* Position the tooltip */\n",
       "  position: absolute;\n",
       "  z-index: 1;\n",
       "}\n",
       "\n",
       ".tooltip:hover .tooltiptext {\n",
       "  visibility: visible;\n",
       "}\n",
       "</style>"
      ],
      "text/plain": [
       "<IPython.core.display.HTML object>"
      ]
     },
     "metadata": {},
     "output_type": "display_data"
    }
   ],
   "source": [
    "@patch\n",
    "def read_img(self:BaseDataset, file, *args, **kwargs):\n",
    "    return zarr.open(str(file), mode='r')\n",
    "\n",
    "@patch\n",
    "def _name_fn(self:BaseDataset, g):\n",
    "    \"Name of preprocessed and compressed data.\"\n",
    "    return f'{g}'\n",
    "\n",
    "@patch\n",
    "def apply(self:DeformationField, data, offset=(0, 0), pad=(0, 0), order=1):\n",
    "    \"Apply deformation field to image using interpolation\"\n",
    "    outshape = tuple(int(s - p) for (s, p) in zip(self.shape, pad))\n",
    "    coords = [np.squeeze(d).astype('float32').reshape(*outshape) for d in self.get(offset, pad)]\n",
    "    # Get slices to avoid loading all data (.zarr files)\n",
    "    sl = []\n",
    "    for i in range(len(coords)):\n",
    "        cmin, cmax = int(coords[i].min()), int(coords[i].max())\n",
    "        dmax = data.shape[i]\n",
    "        if cmin<0: \n",
    "            cmax = max(-cmin, cmax)\n",
    "            cmin = 0 \n",
    "        elif cmax>dmax:\n",
    "            cmin = min(cmin, 2*dmax-cmax)\n",
    "            cmax = dmax\n",
    "            coords[i] -= cmin\n",
    "        else: coords[i] -= cmin\n",
    "        sl.append(slice(cmin, cmax))    \n",
    "    if len(data.shape) == len(self.shape) + 1:\n",
    "        tile = np.empty((*outshape, data.shape[-1]))\n",
    "        for c in range(data.shape[-1]):\n",
    "            # Adding divide\n",
    "            tile[..., c] = cv2.remap(data[sl[0],sl[1], c]/255, coords[1],coords[0], interpolation=order, borderMode=cv2.BORDER_REFLECT)\n",
    "    else:\n",
    "        tile = cv2.remap(data[sl[0], sl[1]], coords[1], coords[0], interpolation=order, borderMode=cv2.BORDER_REFLECT)\n",
    "    return tile"
   ]
  },
  {
   "cell_type": "code",
   "execution_count": 10,
   "id": "starting-viking",
   "metadata": {},
   "outputs": [
    {
     "data": {
      "text/html": [
       "<style>\n",
       ".tooltip {\n",
       "  position: relative;\n",
       "  display: inline-block;\n",
       "}\n",
       "\n",
       ".tooltip .tooltiptext {\n",
       "  visibility: hidden;\n",
       "  width: max-content;\n",
       "  max-width: 280px;\n",
       "  background-color: #00bcd4;\n",
       "  text-align: left;\n",
       "  color: white;\n",
       "  border-radius: 4px;\n",
       "  padding: 4px 4px;\n",
       "  border: solid 0px black;\n",
       "  line-height: 1em;\n",
       "\n",
       "  /* Position the tooltip */\n",
       "  position: absolute;\n",
       "  z-index: 1;\n",
       "}\n",
       "\n",
       ".tooltip:hover .tooltiptext {\n",
       "  visibility: visible;\n",
       "}\n",
       "</style>"
      ],
      "text/plain": [
       "<IPython.core.display.HTML object>"
      ]
     },
     "metadata": {},
     "output_type": "display_data"
    }
   ],
   "source": [
    "@patch\n",
    "def __getitem__(self:RandomTileDataset, idx):\n",
    "    idx = idx % len(self.files)\n",
    "    if torch.is_tensor(idx):\n",
    "        idx = idx.tolist()\n",
    "\n",
    "    img_path = self.files[idx]\n",
    "    img = self.read_img(img_path, divide=self.divide)\n",
    "    n_channels = img.shape[-1]\n",
    "\n",
    "    lbl, pdf  = self.labels[img_path.name], self.pdfs[self._name_fn(img_path.name)]\n",
    "    center = random_center(pdf[:], lbl.shape, TILE_SHAPE)\n",
    "    X = self.gammaFcn(self.deformationField.apply(img, center).flatten()).reshape((*self.tile_shape, n_channels))\n",
    "    Y = self.deformationField.apply(lbl, center, self.padding, 0)\n",
    "    X1 = X.copy()\n",
    "\n",
    "    if self.albumentations_tfms:\n",
    "        augmented = self.albumentations_tfms(image=(X*255).astype('uint8'),mask=Y.astype('uint8'))\n",
    "        X = (augmented['image']/255)\n",
    "        Y = augmented['mask']\n",
    "\n",
    "    X = X.transpose(2, 0, 1).astype('float32')\n",
    "    Y = Y.astype('int64')\n",
    "\n",
    "    if self.loss_weights:\n",
    "        _, W = cv2.connectedComponents((Y > 0).astype('uint8'), connectivity=4)\n",
    "        return  TensorImage(X), TensorMask(Y), torch.Tensor(W)\n",
    "    else:\n",
    "        return  TensorImage(X), TensorMask(Y)"
   ]
  },
  {
   "cell_type": "code",
   "execution_count": 11,
   "id": "stretch-motivation",
   "metadata": {},
   "outputs": [
    {
     "data": {
      "text/html": [
       "<style>\n",
       ".tooltip {\n",
       "  position: relative;\n",
       "  display: inline-block;\n",
       "}\n",
       "\n",
       ".tooltip .tooltiptext {\n",
       "  visibility: hidden;\n",
       "  width: max-content;\n",
       "  max-width: 280px;\n",
       "  background-color: #00bcd4;\n",
       "  text-align: left;\n",
       "  color: white;\n",
       "  border-radius: 4px;\n",
       "  padding: 4px 4px;\n",
       "  border: solid 0px black;\n",
       "  line-height: 1em;\n",
       "\n",
       "  /* Position the tooltip */\n",
       "  position: absolute;\n",
       "  z-index: 1;\n",
       "}\n",
       "\n",
       ".tooltip:hover .tooltiptext {\n",
       "  visibility: visible;\n",
       "}\n",
       "</style>"
      ],
      "text/plain": [
       "<IPython.core.display.HTML object>"
      ]
     },
     "metadata": {},
     "output_type": "display_data"
    }
   ],
   "source": [
    "@patch\n",
    "def _do_one_batch(self:Learner):\n",
    "    self.pred = self.model(*self.xb)\n",
    "    self('after_pred')\n",
    "    if len(self.yb):\n",
    "        self.loss_grad = self.loss_func(self.pred, *self.yb)\n",
    "        self.loss = self.loss_grad.clone()\n",
    "    self('after_loss')\n",
    "    if not self.training or not len(self.yb): return\n",
    "    self('before_backward')\n",
    "    self.loss_grad.backward()\n",
    "    self._with_events(self.opt.step, 'step', CancelStepException)\n",
    "    self.opt.zero_grad()"
   ]
  },
  {
   "cell_type": "markdown",
   "id": "biological-meter",
   "metadata": {},
   "source": [
    "### Metrics"
   ]
  },
  {
   "cell_type": "code",
   "execution_count": 12,
   "id": "dried-channel",
   "metadata": {},
   "outputs": [
    {
     "data": {
      "text/html": [
       "<style>\n",
       ".tooltip {\n",
       "  position: relative;\n",
       "  display: inline-block;\n",
       "}\n",
       "\n",
       ".tooltip .tooltiptext {\n",
       "  visibility: hidden;\n",
       "  width: max-content;\n",
       "  max-width: 280px;\n",
       "  background-color: #00bcd4;\n",
       "  text-align: left;\n",
       "  color: white;\n",
       "  border-radius: 4px;\n",
       "  padding: 4px 4px;\n",
       "  border: solid 0px black;\n",
       "  line-height: 1em;\n",
       "\n",
       "  /* Position the tooltip */\n",
       "  position: absolute;\n",
       "  z-index: 1;\n",
       "}\n",
       "\n",
       ".tooltip:hover .tooltiptext {\n",
       "  visibility: visible;\n",
       "}\n",
       "</style>"
      ],
      "text/plain": [
       "<IPython.core.display.HTML object>"
      ]
     },
     "metadata": {},
     "output_type": "display_data"
    }
   ],
   "source": [
    "def calc_intersection_cardinality(y_pred, y, dims=(-2, -1)):\n",
    "    x = y_pred\n",
    "    x = torch.argmax(x, 1)\n",
    "    intersection = (x * y).to(torch.int8).sum(dims)\n",
    "    cardinality = (x + y).to(torch.int8).sum(dims)\n",
    "    return intersection, cardinality\n",
    "\n",
    "def dice_metric(y_pred, y, epsilon = 1e-7, dims=(-2, -1)):\n",
    "    intersection, cardinality = calc_intersection_cardinality(y_pred, y)\n",
    "    dc = (2 * intersection + epsilon) / (cardinality + epsilon)\n",
    "    return dc.mean()\n",
    "\n",
    "def iou_metric(y_pred, y, epsilon = 1e-7, dims=(-2, -1)):\n",
    "    intersection, cardinality = calc_intersection_cardinality(y_pred, y)\n",
    "    dc = (intersection + epsilon) / (cardinality - intersection + epsilon)\n",
    "    return dc.mean()"
   ]
  },
  {
   "cell_type": "markdown",
   "id": "inclusive-binding",
   "metadata": {},
   "source": [
    "### Configuration"
   ]
  },
  {
   "cell_type": "code",
   "execution_count": 13,
   "id": "graduate-extraction",
   "metadata": {},
   "outputs": [
    {
     "data": {
      "text/html": [
       "<style>\n",
       ".tooltip {\n",
       "  position: relative;\n",
       "  display: inline-block;\n",
       "}\n",
       "\n",
       ".tooltip .tooltiptext {\n",
       "  visibility: hidden;\n",
       "  width: max-content;\n",
       "  max-width: 280px;\n",
       "  background-color: #00bcd4;\n",
       "  text-align: left;\n",
       "  color: white;\n",
       "  border-radius: 4px;\n",
       "  padding: 4px 4px;\n",
       "  border: solid 0px black;\n",
       "  line-height: 1em;\n",
       "\n",
       "  /* Position the tooltip */\n",
       "  position: absolute;\n",
       "  z-index: 1;\n",
       "}\n",
       "\n",
       ".tooltip:hover .tooltiptext {\n",
       "  visibility: visible;\n",
       "}\n",
       "</style>"
      ],
      "text/plain": [
       "<IPython.core.display.HTML object>"
      ]
     },
     "metadata": {},
     "output_type": "display_data"
    }
   ],
   "source": [
    "class CONFIG():\n",
    "    \n",
    "    # data paths\n",
    "    data_path = Path('/home/jupyter/data_2/')\n",
    "    data_path_zarr = Path('/home/jupyter/train_scale2')\n",
    "    mask_preproc_dir = '/home/jupyter/masks_scale2'\n",
    "    \n",
    "    # deepflash2 dataset\n",
    "    # scale = 1.5 # data is already downscaled to 2, so absulute downscale is 3\n",
    "    scale = 1 # data is already downscaled to 2, so absulute downscale is 3\n",
    "    tile_shape = (TILE_SHAPE, TILE_SHAPE)\n",
    "    padding = (0,0) # Border overlap for prediction\n",
    "    n_jobs = NUM_WORKERS\n",
    "    sample_mult = 200 # Sample 100 tiles from each image, per epoch\n",
    "    val_length = 500 # Randomly sample 500 validation tiles\n",
    "    stats = np.array([0.61561477, 0.5179343 , 0.64067212]), np.array([0.2915353 , 0.31549066, 0.28647661])\n",
    "    \n",
    "    # deepflash2 augmentation options\n",
    "    zoom_sigma = 0.1\n",
    "    flip = True\n",
    "    max_rotation = 360\n",
    "    deformation_grid_size = (150,150)\n",
    "    deformation_magnitude = (10,10)\n",
    "\n",
    "    # pytorch model (segmentation_models_pytorch)\n",
    "    encoder_name = ENCODER_NAME\n",
    "    encoder_weights = ENCODER_WEIGHTS\n",
    "    in_channels = 3\n",
    "    classes = 2\n",
    "    \n",
    "    # fastai Learner \n",
    "    mixed_precision_training = True\n",
    "    batch_size = 20\n",
    "    weight_decay = 0.01\n",
    "    loss_func = CrossEntropyLossFlat(axis=1)\n",
    "    metrics = [Iou(), Dice_f1(), dice_metric, iou_metric]\n",
    "    optimizer = ranger\n",
    "    max_learning_rate = 1e-3\n",
    "    epochs = 40\n",
    "    \n",
    "cfg = CONFIG()"
   ]
  },
  {
   "cell_type": "code",
   "execution_count": 14,
   "id": "stuck-words",
   "metadata": {},
   "outputs": [
    {
     "data": {
      "text/html": [
       "<style>\n",
       ".tooltip {\n",
       "  position: relative;\n",
       "  display: inline-block;\n",
       "}\n",
       "\n",
       ".tooltip .tooltiptext {\n",
       "  visibility: hidden;\n",
       "  width: max-content;\n",
       "  max-width: 280px;\n",
       "  background-color: #00bcd4;\n",
       "  text-align: left;\n",
       "  color: white;\n",
       "  border-radius: 4px;\n",
       "  padding: 4px 4px;\n",
       "  border: solid 0px black;\n",
       "  line-height: 1em;\n",
       "\n",
       "  /* Position the tooltip */\n",
       "  position: absolute;\n",
       "  z-index: 1;\n",
       "}\n",
       "\n",
       ".tooltip:hover .tooltiptext {\n",
       "  visibility: visible;\n",
       "}\n",
       "</style>"
      ],
      "text/plain": [
       "<IPython.core.display.HTML object>"
      ]
     },
     "metadata": {},
     "output_type": "display_data"
    }
   ],
   "source": [
    "# Albumentations augmentations\n",
    "# Inspired by https://www.kaggle.com/iafoss/hubmap-pytorch-fast-ai-starter\n",
    "# deepflash2 augmentations are only affine transformations\n",
    "tfms = alb.Compose([\n",
    "    alb.OneOf([\n",
    "        alb.HueSaturationValue(10,15,10),\n",
    "        alb.RandomBrightness(limit=.2, p=1), \n",
    "        alb.RandomContrast(limit=.2, p=1), \n",
    "        alb.RandomGamma(p=1)\n",
    "    ], p=.5),\n",
    "    alb.OneOf([\n",
    "        alb.Blur(blur_limit=3, p=1),\n",
    "        alb.MedianBlur(blur_limit=3, p=1)\n",
    "    ], p=.25),\n",
    "    alb.OneOf([\n",
    "        alb.GaussNoise(0.002, p=.5),\n",
    "        alb.IAAAffine(p=.5),\n",
    "    ], p=.25)\n",
    "], p=0.5)"
   ]
  },
  {
   "cell_type": "code",
   "execution_count": 15,
   "id": "modular-reporter",
   "metadata": {},
   "outputs": [
    {
     "data": {
      "text/html": [
       "<style>\n",
       ".tooltip {\n",
       "  position: relative;\n",
       "  display: inline-block;\n",
       "}\n",
       "\n",
       ".tooltip .tooltiptext {\n",
       "  visibility: hidden;\n",
       "  width: max-content;\n",
       "  max-width: 280px;\n",
       "  background-color: #00bcd4;\n",
       "  text-align: left;\n",
       "  color: white;\n",
       "  border-radius: 4px;\n",
       "  padding: 4px 4px;\n",
       "  border: solid 0px black;\n",
       "  line-height: 1em;\n",
       "\n",
       "  /* Position the tooltip */\n",
       "  position: absolute;\n",
       "  z-index: 1;\n",
       "}\n",
       "\n",
       ".tooltip:hover .tooltiptext {\n",
       "  visibility: visible;\n",
       "}\n",
       "</style>"
      ],
      "text/plain": [
       "<IPython.core.display.HTML object>"
      ]
     },
     "metadata": {},
     "output_type": "display_data"
    }
   ],
   "source": [
    "df_train = pd.read_csv(cfg.data_path/'train.csv')\n",
    "df_info = pd.read_csv(cfg.data_path/'HuBMAP-20-dataset_information.csv')\n",
    "\n",
    "files = [x for x in cfg.data_path_zarr.iterdir() if x.is_dir() if not x.name.startswith('.')]\n",
    "label_fn = lambda o: o"
   ]
  },
  {
   "cell_type": "code",
   "execution_count": 16,
   "id": "round-murray",
   "metadata": {},
   "outputs": [
    {
     "data": {
      "text/html": [
       "<style>\n",
       ".tooltip {\n",
       "  position: relative;\n",
       "  display: inline-block;\n",
       "}\n",
       "\n",
       ".tooltip .tooltiptext {\n",
       "  visibility: hidden;\n",
       "  width: max-content;\n",
       "  max-width: 280px;\n",
       "  background-color: #00bcd4;\n",
       "  text-align: left;\n",
       "  color: white;\n",
       "  border-radius: 4px;\n",
       "  padding: 4px 4px;\n",
       "  border: solid 0px black;\n",
       "  line-height: 1em;\n",
       "\n",
       "  /* Position the tooltip */\n",
       "  position: absolute;\n",
       "  z-index: 1;\n",
       "}\n",
       "\n",
       ".tooltip:hover .tooltiptext {\n",
       "  visibility: visible;\n",
       "}\n",
       "</style>"
      ],
      "text/plain": [
       "<IPython.core.display.HTML object>"
      ]
     },
     "metadata": {},
     "output_type": "display_data"
    },
    {
     "name": "stdout",
     "output_type": "stream",
     "text": [
      "labels\tpdfs\n"
     ]
    }
   ],
   "source": [
    "!ls {cfg.mask_preproc_dir}"
   ]
  },
  {
   "cell_type": "markdown",
   "id": "frequent-league",
   "metadata": {},
   "source": [
    "### Training"
   ]
  },
  {
   "cell_type": "code",
   "execution_count": 17,
   "id": "human-expression",
   "metadata": {},
   "outputs": [
    {
     "data": {
      "text/html": [
       "<style>\n",
       ".tooltip {\n",
       "  position: relative;\n",
       "  display: inline-block;\n",
       "}\n",
       "\n",
       ".tooltip .tooltiptext {\n",
       "  visibility: hidden;\n",
       "  width: max-content;\n",
       "  max-width: 280px;\n",
       "  background-color: #00bcd4;\n",
       "  text-align: left;\n",
       "  color: white;\n",
       "  border-radius: 4px;\n",
       "  padding: 4px 4px;\n",
       "  border: solid 0px black;\n",
       "  line-height: 1em;\n",
       "\n",
       "  /* Position the tooltip */\n",
       "  position: absolute;\n",
       "  z-index: 1;\n",
       "}\n",
       "\n",
       ".tooltip:hover .tooltiptext {\n",
       "  visibility: visible;\n",
       "}\n",
       "</style>"
      ],
      "text/plain": [
       "<IPython.core.display.HTML object>"
      ]
     },
     "metadata": {},
     "output_type": "display_data"
    },
    {
     "name": "stdout",
     "output_type": "stream",
     "text": [
      "Using preprocessed masks from /home/jupyter/masks_scale2\n",
      "Using preprocessed masks from /home/jupyter/masks_scale2\n"
     ]
    },
    {
     "data": {
      "text/html": [],
      "text/plain": [
       "<IPython.core.display.HTML object>"
      ]
     },
     "metadata": {},
     "output_type": "display_data"
    }
   ],
   "source": [
    "# Datasets\n",
    "ds_kwargs = {\n",
    "    'tile_shape':cfg.tile_shape,\n",
    "    'padding':cfg.padding,\n",
    "    'scale': cfg.scale,\n",
    "    'n_jobs': cfg.n_jobs, \n",
    "    'preproc_dir': cfg.mask_preproc_dir, \n",
    "    'val_length':cfg.val_length, \n",
    "    'sample_mult':cfg.sample_mult,\n",
    "    'loss_weights':False,\n",
    "    'zoom_sigma': cfg.zoom_sigma,\n",
    "    'flip' : cfg.flip,\n",
    "    'max_rotation': cfg.max_rotation,\n",
    "    'deformation_grid_size' : cfg.deformation_grid_size,\n",
    "    'deformation_magnitude' : cfg.deformation_magnitude,\n",
    "    'albumentations_tfms': tfms\n",
    "}\n",
    "\n",
    "train_ds = RandomTileDataset(files, label_fn=label_fn, **ds_kwargs)\n",
    "valid_ds = TileDataset(files, label_fn=label_fn, **ds_kwargs, is_zarr=True)"
   ]
  },
  {
   "cell_type": "code",
   "execution_count": 18,
   "id": "prime-signal",
   "metadata": {},
   "outputs": [
    {
     "data": {
      "text/html": [
       "<style>\n",
       ".tooltip {\n",
       "  position: relative;\n",
       "  display: inline-block;\n",
       "}\n",
       "\n",
       ".tooltip .tooltiptext {\n",
       "  visibility: hidden;\n",
       "  width: max-content;\n",
       "  max-width: 280px;\n",
       "  background-color: #00bcd4;\n",
       "  text-align: left;\n",
       "  color: white;\n",
       "  border-radius: 4px;\n",
       "  padding: 4px 4px;\n",
       "  border: solid 0px black;\n",
       "  line-height: 1em;\n",
       "\n",
       "  /* Position the tooltip */\n",
       "  position: absolute;\n",
       "  z-index: 1;\n",
       "}\n",
       "\n",
       ".tooltip:hover .tooltiptext {\n",
       "  visibility: visible;\n",
       "}\n",
       "</style>"
      ],
      "text/plain": [
       "<IPython.core.display.HTML object>"
      ]
     },
     "metadata": {},
     "output_type": "display_data"
    }
   ],
   "source": [
    "tversky_loss = load_kornia_loss('TverskyLoss')"
   ]
  },
  {
   "cell_type": "code",
   "execution_count": 19,
   "id": "available-decimal",
   "metadata": {},
   "outputs": [
    {
     "data": {
      "text/html": [
       "<style>\n",
       ".tooltip {\n",
       "  position: relative;\n",
       "  display: inline-block;\n",
       "}\n",
       "\n",
       ".tooltip .tooltiptext {\n",
       "  visibility: hidden;\n",
       "  width: max-content;\n",
       "  max-width: 280px;\n",
       "  background-color: #00bcd4;\n",
       "  text-align: left;\n",
       "  color: white;\n",
       "  border-radius: 4px;\n",
       "  padding: 4px 4px;\n",
       "  border: solid 0px black;\n",
       "  line-height: 1em;\n",
       "\n",
       "  /* Position the tooltip */\n",
       "  position: absolute;\n",
       "  z-index: 1;\n",
       "}\n",
       "\n",
       ".tooltip:hover .tooltiptext {\n",
       "  visibility: visible;\n",
       "}\n",
       "</style>"
      ],
      "text/plain": [
       "<IPython.core.display.HTML object>"
      ]
     },
     "metadata": {},
     "output_type": "display_data"
    }
   ],
   "source": [
    "# jaccard_loss = smp.losses.JaccardLoss(mode='multiclass', from_logits=True)"
   ]
  },
  {
   "cell_type": "code",
   "execution_count": 20,
   "id": "parallel-fitting",
   "metadata": {},
   "outputs": [
    {
     "data": {
      "text/html": [
       "<style>\n",
       ".tooltip {\n",
       "  position: relative;\n",
       "  display: inline-block;\n",
       "}\n",
       "\n",
       ".tooltip .tooltiptext {\n",
       "  visibility: hidden;\n",
       "  width: max-content;\n",
       "  max-width: 280px;\n",
       "  background-color: #00bcd4;\n",
       "  text-align: left;\n",
       "  color: white;\n",
       "  border-radius: 4px;\n",
       "  padding: 4px 4px;\n",
       "  border: solid 0px black;\n",
       "  line-height: 1em;\n",
       "\n",
       "  /* Position the tooltip */\n",
       "  position: absolute;\n",
       "  z-index: 1;\n",
       "}\n",
       "\n",
       ".tooltip:hover .tooltiptext {\n",
       "  visibility: visible;\n",
       "}\n",
       "</style>"
      ],
      "text/plain": [
       "<IPython.core.display.HTML object>"
      ]
     },
     "metadata": {},
     "output_type": "display_data"
    }
   ],
   "source": [
    "a = torch.randn([6, 2, 512, 512])\n",
    "b = (torch.rand([6, 512, 512]) > 0.5).long()"
   ]
  },
  {
   "cell_type": "code",
   "execution_count": 21,
   "id": "fewer-shoot",
   "metadata": {},
   "outputs": [
    {
     "data": {
      "text/html": [
       "<style>\n",
       ".tooltip {\n",
       "  position: relative;\n",
       "  display: inline-block;\n",
       "}\n",
       "\n",
       ".tooltip .tooltiptext {\n",
       "  visibility: hidden;\n",
       "  width: max-content;\n",
       "  max-width: 280px;\n",
       "  background-color: #00bcd4;\n",
       "  text-align: left;\n",
       "  color: white;\n",
       "  border-radius: 4px;\n",
       "  padding: 4px 4px;\n",
       "  border: solid 0px black;\n",
       "  line-height: 1em;\n",
       "\n",
       "  /* Position the tooltip */\n",
       "  position: absolute;\n",
       "  z-index: 1;\n",
       "}\n",
       "\n",
       ".tooltip:hover .tooltiptext {\n",
       "  visibility: visible;\n",
       "}\n",
       "</style>"
      ],
      "text/plain": [
       "<IPython.core.display.HTML object>"
      ]
     },
     "metadata": {},
     "output_type": "display_data"
    },
    {
     "data": {
      "text/plain": [
       "tensor(0.5000)"
      ]
     },
     "execution_count": 21,
     "metadata": {},
     "output_type": "execute_result"
    }
   ],
   "source": [
    "tversky_loss(a, b)"
   ]
  },
  {
   "cell_type": "code",
   "execution_count": 22,
   "id": "authorized-slovak",
   "metadata": {},
   "outputs": [
    {
     "data": {
      "text/html": [
       "<style>\n",
       ".tooltip {\n",
       "  position: relative;\n",
       "  display: inline-block;\n",
       "}\n",
       "\n",
       ".tooltip .tooltiptext {\n",
       "  visibility: hidden;\n",
       "  width: max-content;\n",
       "  max-width: 280px;\n",
       "  background-color: #00bcd4;\n",
       "  text-align: left;\n",
       "  color: white;\n",
       "  border-radius: 4px;\n",
       "  padding: 4px 4px;\n",
       "  border: solid 0px black;\n",
       "  line-height: 1em;\n",
       "\n",
       "  /* Position the tooltip */\n",
       "  position: absolute;\n",
       "  z-index: 1;\n",
       "}\n",
       "\n",
       ".tooltip:hover .tooltiptext {\n",
       "  visibility: visible;\n",
       "}\n",
       "</style>"
      ],
      "text/plain": [
       "<IPython.core.display.HTML object>"
      ]
     },
     "metadata": {},
     "output_type": "display_data"
    }
   ],
   "source": [
    "FACTOR = 0.5\n",
    "\n",
    "cross_entropy = CrossEntropyLossFlat(axis=1)\n",
    "\n",
    "def combined_loss(y_pred, y):\n",
    "    return tversky_loss(y_pred, y) * FACTOR + (1 - FACTOR) * cross_entropy(y_pred, y)"
   ]
  },
  {
   "cell_type": "code",
   "execution_count": 23,
   "id": "similar-sword",
   "metadata": {},
   "outputs": [
    {
     "data": {
      "text/html": [
       "<style>\n",
       ".tooltip {\n",
       "  position: relative;\n",
       "  display: inline-block;\n",
       "}\n",
       "\n",
       ".tooltip .tooltiptext {\n",
       "  visibility: hidden;\n",
       "  width: max-content;\n",
       "  max-width: 280px;\n",
       "  background-color: #00bcd4;\n",
       "  text-align: left;\n",
       "  color: white;\n",
       "  border-radius: 4px;\n",
       "  padding: 4px 4px;\n",
       "  border: solid 0px black;\n",
       "  line-height: 1em;\n",
       "\n",
       "  /* Position the tooltip */\n",
       "  position: absolute;\n",
       "  z-index: 1;\n",
       "}\n",
       "\n",
       ".tooltip:hover .tooltiptext {\n",
       "  visibility: visible;\n",
       "}\n",
       "</style>"
      ],
      "text/plain": [
       "<IPython.core.display.HTML object>"
      ]
     },
     "metadata": {},
     "output_type": "display_data"
    }
   ],
   "source": [
    "# Dataloader and learner\n",
    "dls = DataLoaders.from_dsets(train_ds, valid_ds, bs=cfg.batch_size, after_batch=Normalize.from_stats(*cfg.stats))\n",
    "if torch.cuda.is_available(): dls.cuda(), model.cuda()\n",
    "cbs = [SaveModelCallback(monitor='iou'), ElasticDeformCallback, GradientClip(max_norm=0.9)]\n",
    "learn = Learner(dls, model, metrics=cfg.metrics, wd=cfg.weight_decay, loss_func=combined_loss, opt_func=ranger, cbs=cbs)\n",
    "if cfg.mixed_precision_training: learn.to_fp16()"
   ]
  },
  {
   "cell_type": "code",
   "execution_count": 24,
   "id": "instant-glance",
   "metadata": {},
   "outputs": [
    {
     "data": {
      "text/html": [
       "<style>\n",
       ".tooltip {\n",
       "  position: relative;\n",
       "  display: inline-block;\n",
       "}\n",
       "\n",
       ".tooltip .tooltiptext {\n",
       "  visibility: hidden;\n",
       "  width: max-content;\n",
       "  max-width: 280px;\n",
       "  background-color: #00bcd4;\n",
       "  text-align: left;\n",
       "  color: white;\n",
       "  border-radius: 4px;\n",
       "  padding: 4px 4px;\n",
       "  border: solid 0px black;\n",
       "  line-height: 1em;\n",
       "\n",
       "  /* Position the tooltip */\n",
       "  position: absolute;\n",
       "  z-index: 1;\n",
       "}\n",
       "\n",
       ".tooltip:hover .tooltiptext {\n",
       "  visibility: visible;\n",
       "}\n",
       "</style>"
      ],
      "text/plain": [
       "<IPython.core.display.HTML object>"
      ]
     },
     "metadata": {},
     "output_type": "display_data"
    }
   ],
   "source": [
    "# learn.lr_find()"
   ]
  },
  {
   "cell_type": "code",
   "execution_count": 25,
   "id": "premium-czech",
   "metadata": {},
   "outputs": [
    {
     "data": {
      "text/html": [
       "<style>\n",
       ".tooltip {\n",
       "  position: relative;\n",
       "  display: inline-block;\n",
       "}\n",
       "\n",
       ".tooltip .tooltiptext {\n",
       "  visibility: hidden;\n",
       "  width: max-content;\n",
       "  max-width: 280px;\n",
       "  background-color: #00bcd4;\n",
       "  text-align: left;\n",
       "  color: white;\n",
       "  border-radius: 4px;\n",
       "  padding: 4px 4px;\n",
       "  border: solid 0px black;\n",
       "  line-height: 1em;\n",
       "\n",
       "  /* Position the tooltip */\n",
       "  position: absolute;\n",
       "  z-index: 1;\n",
       "}\n",
       "\n",
       ".tooltip:hover .tooltiptext {\n",
       "  visibility: visible;\n",
       "}\n",
       "</style>"
      ],
      "text/plain": [
       "<IPython.core.display.HTML object>"
      ]
     },
     "metadata": {},
     "output_type": "display_data"
    },
    {
     "data": {
      "text/html": [
       "<table border=\"1\" class=\"dataframe\">\n",
       "  <thead>\n",
       "    <tr style=\"text-align: left;\">\n",
       "      <th>epoch</th>\n",
       "      <th>train_loss</th>\n",
       "      <th>valid_loss</th>\n",
       "      <th>iou</th>\n",
       "      <th>dice_f1</th>\n",
       "      <th>dice_metric</th>\n",
       "      <th>iou_metric</th>\n",
       "      <th>time</th>\n",
       "    </tr>\n",
       "  </thead>\n",
       "  <tbody>\n",
       "    <tr>\n",
       "      <td>0</td>\n",
       "      <td>0.692031</td>\n",
       "      <td>0.563943</td>\n",
       "      <td>0.029346</td>\n",
       "      <td>0.057018</td>\n",
       "      <td>0.033298</td>\n",
       "      <td>0.017944</td>\n",
       "      <td>04:50</td>\n",
       "    </tr>\n",
       "    <tr>\n",
       "      <td>1</td>\n",
       "      <td>0.343878</td>\n",
       "      <td>0.210734</td>\n",
       "      <td>0.593189</td>\n",
       "      <td>0.744656</td>\n",
       "      <td>0.223752</td>\n",
       "      <td>0.191514</td>\n",
       "      <td>04:33</td>\n",
       "    </tr>\n",
       "    <tr>\n",
       "      <td>2</td>\n",
       "      <td>0.129628</td>\n",
       "      <td>0.097676</td>\n",
       "      <td>0.780727</td>\n",
       "      <td>0.876863</td>\n",
       "      <td>0.763147</td>\n",
       "      <td>0.742017</td>\n",
       "      <td>04:30</td>\n",
       "    </tr>\n",
       "    <tr>\n",
       "      <td>3</td>\n",
       "      <td>0.043726</td>\n",
       "      <td>0.025466</td>\n",
       "      <td>0.846229</td>\n",
       "      <td>0.916711</td>\n",
       "      <td>0.912000</td>\n",
       "      <td>0.894179</td>\n",
       "      <td>04:29</td>\n",
       "    </tr>\n",
       "    <tr>\n",
       "      <td>4</td>\n",
       "      <td>0.016324</td>\n",
       "      <td>0.011011</td>\n",
       "      <td>0.845836</td>\n",
       "      <td>0.916480</td>\n",
       "      <td>0.911826</td>\n",
       "      <td>0.895214</td>\n",
       "      <td>04:29</td>\n",
       "    </tr>\n",
       "    <tr>\n",
       "      <td>5</td>\n",
       "      <td>0.008559</td>\n",
       "      <td>0.007034</td>\n",
       "      <td>0.855406</td>\n",
       "      <td>0.922069</td>\n",
       "      <td>0.943608</td>\n",
       "      <td>0.926160</td>\n",
       "      <td>04:33</td>\n",
       "    </tr>\n",
       "    <tr>\n",
       "      <td>6</td>\n",
       "      <td>0.007725</td>\n",
       "      <td>0.006084</td>\n",
       "      <td>0.860226</td>\n",
       "      <td>0.924862</td>\n",
       "      <td>0.940403</td>\n",
       "      <td>0.924525</td>\n",
       "      <td>04:29</td>\n",
       "    </tr>\n",
       "    <tr>\n",
       "      <td>7</td>\n",
       "      <td>0.006967</td>\n",
       "      <td>0.005387</td>\n",
       "      <td>0.872359</td>\n",
       "      <td>0.931829</td>\n",
       "      <td>0.957183</td>\n",
       "      <td>0.942230</td>\n",
       "      <td>04:29</td>\n",
       "    </tr>\n",
       "    <tr>\n",
       "      <td>8</td>\n",
       "      <td>0.005767</td>\n",
       "      <td>0.005452</td>\n",
       "      <td>0.866263</td>\n",
       "      <td>0.928340</td>\n",
       "      <td>0.948517</td>\n",
       "      <td>0.933776</td>\n",
       "      <td>04:27</td>\n",
       "    </tr>\n",
       "    <tr>\n",
       "      <td>9</td>\n",
       "      <td>0.007497</td>\n",
       "      <td>0.005729</td>\n",
       "      <td>0.865685</td>\n",
       "      <td>0.928008</td>\n",
       "      <td>0.931968</td>\n",
       "      <td>0.915985</td>\n",
       "      <td>04:29</td>\n",
       "    </tr>\n",
       "    <tr>\n",
       "      <td>10</td>\n",
       "      <td>0.004972</td>\n",
       "      <td>0.005371</td>\n",
       "      <td>0.877247</td>\n",
       "      <td>0.934610</td>\n",
       "      <td>0.951315</td>\n",
       "      <td>0.936632</td>\n",
       "      <td>04:28</td>\n",
       "    </tr>\n",
       "    <tr>\n",
       "      <td>11</td>\n",
       "      <td>0.005219</td>\n",
       "      <td>0.005073</td>\n",
       "      <td>0.872675</td>\n",
       "      <td>0.932009</td>\n",
       "      <td>0.956825</td>\n",
       "      <td>0.941917</td>\n",
       "      <td>04:31</td>\n",
       "    </tr>\n",
       "    <tr>\n",
       "      <td>12</td>\n",
       "      <td>0.005045</td>\n",
       "      <td>0.005566</td>\n",
       "      <td>0.864327</td>\n",
       "      <td>0.927227</td>\n",
       "      <td>0.954964</td>\n",
       "      <td>0.939943</td>\n",
       "      <td>04:29</td>\n",
       "    </tr>\n",
       "    <tr>\n",
       "      <td>13</td>\n",
       "      <td>0.004686</td>\n",
       "      <td>0.005256</td>\n",
       "      <td>0.873848</td>\n",
       "      <td>0.932678</td>\n",
       "      <td>0.961898</td>\n",
       "      <td>0.946431</td>\n",
       "      <td>04:29</td>\n",
       "    </tr>\n",
       "    <tr>\n",
       "      <td>14</td>\n",
       "      <td>0.004777</td>\n",
       "      <td>0.005170</td>\n",
       "      <td>0.882012</td>\n",
       "      <td>0.937308</td>\n",
       "      <td>0.963973</td>\n",
       "      <td>0.950729</td>\n",
       "      <td>04:29</td>\n",
       "    </tr>\n",
       "    <tr>\n",
       "      <td>15</td>\n",
       "      <td>0.004331</td>\n",
       "      <td>0.004683</td>\n",
       "      <td>0.884988</td>\n",
       "      <td>0.938985</td>\n",
       "      <td>0.956537</td>\n",
       "      <td>0.943000</td>\n",
       "      <td>04:31</td>\n",
       "    </tr>\n",
       "    <tr>\n",
       "      <td>16</td>\n",
       "      <td>0.005137</td>\n",
       "      <td>0.005121</td>\n",
       "      <td>0.871059</td>\n",
       "      <td>0.931087</td>\n",
       "      <td>0.963408</td>\n",
       "      <td>0.948577</td>\n",
       "      <td>04:29</td>\n",
       "    </tr>\n",
       "    <tr>\n",
       "      <td>17</td>\n",
       "      <td>0.004093</td>\n",
       "      <td>0.005304</td>\n",
       "      <td>0.873430</td>\n",
       "      <td>0.932439</td>\n",
       "      <td>0.962566</td>\n",
       "      <td>0.948076</td>\n",
       "      <td>04:30</td>\n",
       "    </tr>\n",
       "    <tr>\n",
       "      <td>18</td>\n",
       "      <td>0.004598</td>\n",
       "      <td>0.005480</td>\n",
       "      <td>0.865140</td>\n",
       "      <td>0.927694</td>\n",
       "      <td>0.956694</td>\n",
       "      <td>0.942350</td>\n",
       "      <td>04:30</td>\n",
       "    </tr>\n",
       "    <tr>\n",
       "      <td>19</td>\n",
       "      <td>0.004183</td>\n",
       "      <td>0.004717</td>\n",
       "      <td>0.880221</td>\n",
       "      <td>0.936295</td>\n",
       "      <td>0.965170</td>\n",
       "      <td>0.951325</td>\n",
       "      <td>04:28</td>\n",
       "    </tr>\n",
       "    <tr>\n",
       "      <td>20</td>\n",
       "      <td>0.004350</td>\n",
       "      <td>0.004766</td>\n",
       "      <td>0.887153</td>\n",
       "      <td>0.940203</td>\n",
       "      <td>0.961324</td>\n",
       "      <td>0.947602</td>\n",
       "      <td>04:30</td>\n",
       "    </tr>\n",
       "    <tr>\n",
       "      <td>21</td>\n",
       "      <td>0.004169</td>\n",
       "      <td>0.005069</td>\n",
       "      <td>0.882141</td>\n",
       "      <td>0.937380</td>\n",
       "      <td>0.964950</td>\n",
       "      <td>0.950614</td>\n",
       "      <td>04:32</td>\n",
       "    </tr>\n",
       "    <tr>\n",
       "      <td>22</td>\n",
       "      <td>0.003797</td>\n",
       "      <td>0.004867</td>\n",
       "      <td>0.881045</td>\n",
       "      <td>0.936761</td>\n",
       "      <td>0.968462</td>\n",
       "      <td>0.954351</td>\n",
       "      <td>04:28</td>\n",
       "    </tr>\n",
       "    <tr>\n",
       "      <td>23</td>\n",
       "      <td>0.003917</td>\n",
       "      <td>0.004538</td>\n",
       "      <td>0.890272</td>\n",
       "      <td>0.941951</td>\n",
       "      <td>0.967184</td>\n",
       "      <td>0.953703</td>\n",
       "      <td>04:28</td>\n",
       "    </tr>\n",
       "    <tr>\n",
       "      <td>24</td>\n",
       "      <td>0.003846</td>\n",
       "      <td>0.004452</td>\n",
       "      <td>0.888301</td>\n",
       "      <td>0.940847</td>\n",
       "      <td>0.965987</td>\n",
       "      <td>0.952450</td>\n",
       "      <td>04:29</td>\n",
       "    </tr>\n",
       "    <tr>\n",
       "      <td>25</td>\n",
       "      <td>0.003746</td>\n",
       "      <td>0.004856</td>\n",
       "      <td>0.890837</td>\n",
       "      <td>0.942267</td>\n",
       "      <td>0.971449</td>\n",
       "      <td>0.957465</td>\n",
       "      <td>04:29</td>\n",
       "    </tr>\n",
       "    <tr>\n",
       "      <td>26</td>\n",
       "      <td>0.003453</td>\n",
       "      <td>0.004563</td>\n",
       "      <td>0.887065</td>\n",
       "      <td>0.940153</td>\n",
       "      <td>0.971619</td>\n",
       "      <td>0.957999</td>\n",
       "      <td>04:31</td>\n",
       "    </tr>\n",
       "    <tr>\n",
       "      <td>27</td>\n",
       "      <td>0.003680</td>\n",
       "      <td>0.004456</td>\n",
       "      <td>0.885537</td>\n",
       "      <td>0.939294</td>\n",
       "      <td>0.968394</td>\n",
       "      <td>0.955140</td>\n",
       "      <td>04:30</td>\n",
       "    </tr>\n",
       "    <tr>\n",
       "      <td>28</td>\n",
       "      <td>0.003475</td>\n",
       "      <td>0.004452</td>\n",
       "      <td>0.887230</td>\n",
       "      <td>0.940246</td>\n",
       "      <td>0.971713</td>\n",
       "      <td>0.958026</td>\n",
       "      <td>04:30</td>\n",
       "    </tr>\n",
       "    <tr>\n",
       "      <td>29</td>\n",
       "      <td>0.003511</td>\n",
       "      <td>0.004400</td>\n",
       "      <td>0.887513</td>\n",
       "      <td>0.940405</td>\n",
       "      <td>0.970621</td>\n",
       "      <td>0.956709</td>\n",
       "      <td>04:29</td>\n",
       "    </tr>\n",
       "    <tr>\n",
       "      <td>30</td>\n",
       "      <td>0.003458</td>\n",
       "      <td>0.004548</td>\n",
       "      <td>0.886062</td>\n",
       "      <td>0.939590</td>\n",
       "      <td>0.973271</td>\n",
       "      <td>0.959701</td>\n",
       "      <td>04:30</td>\n",
       "    </tr>\n",
       "    <tr>\n",
       "      <td>31</td>\n",
       "      <td>0.003181</td>\n",
       "      <td>0.004501</td>\n",
       "      <td>0.886879</td>\n",
       "      <td>0.940048</td>\n",
       "      <td>0.973173</td>\n",
       "      <td>0.959366</td>\n",
       "      <td>04:29</td>\n",
       "    </tr>\n",
       "    <tr>\n",
       "      <td>32</td>\n",
       "      <td>0.003227</td>\n",
       "      <td>0.004193</td>\n",
       "      <td>0.892438</td>\n",
       "      <td>0.943162</td>\n",
       "      <td>0.974061</td>\n",
       "      <td>0.960834</td>\n",
       "      <td>04:29</td>\n",
       "    </tr>\n",
       "    <tr>\n",
       "      <td>33</td>\n",
       "      <td>0.003543</td>\n",
       "      <td>0.004426</td>\n",
       "      <td>0.886771</td>\n",
       "      <td>0.939988</td>\n",
       "      <td>0.973168</td>\n",
       "      <td>0.959554</td>\n",
       "      <td>04:30</td>\n",
       "    </tr>\n",
       "    <tr>\n",
       "      <td>34</td>\n",
       "      <td>0.003516</td>\n",
       "      <td>0.004254</td>\n",
       "      <td>0.889769</td>\n",
       "      <td>0.941669</td>\n",
       "      <td>0.974647</td>\n",
       "      <td>0.960764</td>\n",
       "      <td>04:30</td>\n",
       "    </tr>\n",
       "    <tr>\n",
       "      <td>35</td>\n",
       "      <td>0.003011</td>\n",
       "      <td>0.004372</td>\n",
       "      <td>0.889032</td>\n",
       "      <td>0.941257</td>\n",
       "      <td>0.973309</td>\n",
       "      <td>0.959493</td>\n",
       "      <td>04:30</td>\n",
       "    </tr>\n",
       "    <tr>\n",
       "      <td>36</td>\n",
       "      <td>0.003375</td>\n",
       "      <td>0.004202</td>\n",
       "      <td>0.893743</td>\n",
       "      <td>0.943891</td>\n",
       "      <td>0.974620</td>\n",
       "      <td>0.961116</td>\n",
       "      <td>04:33</td>\n",
       "    </tr>\n",
       "    <tr>\n",
       "      <td>37</td>\n",
       "      <td>0.003305</td>\n",
       "      <td>0.004331</td>\n",
       "      <td>0.890086</td>\n",
       "      <td>0.941847</td>\n",
       "      <td>0.974170</td>\n",
       "      <td>0.960362</td>\n",
       "      <td>04:29</td>\n",
       "    </tr>\n",
       "    <tr>\n",
       "      <td>38</td>\n",
       "      <td>0.003469</td>\n",
       "      <td>0.004264</td>\n",
       "      <td>0.890392</td>\n",
       "      <td>0.942018</td>\n",
       "      <td>0.974251</td>\n",
       "      <td>0.960526</td>\n",
       "      <td>04:29</td>\n",
       "    </tr>\n",
       "    <tr>\n",
       "      <td>39</td>\n",
       "      <td>0.003457</td>\n",
       "      <td>0.004219</td>\n",
       "      <td>0.891502</td>\n",
       "      <td>0.942639</td>\n",
       "      <td>0.973822</td>\n",
       "      <td>0.960025</td>\n",
       "      <td>04:27</td>\n",
       "    </tr>\n",
       "  </tbody>\n",
       "</table>"
      ],
      "text/plain": [
       "<IPython.core.display.HTML object>"
      ]
     },
     "metadata": {},
     "output_type": "display_data"
    },
    {
     "name": "stdout",
     "output_type": "stream",
     "text": [
      "Better model found at epoch 0 with iou value: 0.0293457185312128.\n",
      "Better model found at epoch 1 with iou value: 0.5931889749986193.\n",
      "Better model found at epoch 2 with iou value: 0.7807265170927825.\n",
      "Better model found at epoch 3 with iou value: 0.8462286377948673.\n",
      "Better model found at epoch 5 with iou value: 0.8554060666073412.\n",
      "Better model found at epoch 6 with iou value: 0.8602261503427185.\n",
      "Better model found at epoch 7 with iou value: 0.8723586785125558.\n",
      "Better model found at epoch 10 with iou value: 0.8772469932980383.\n",
      "Better model found at epoch 14 with iou value: 0.882012231399624.\n",
      "Better model found at epoch 15 with iou value: 0.8849879011863465.\n",
      "Better model found at epoch 20 with iou value: 0.8871529963879508.\n",
      "Better model found at epoch 23 with iou value: 0.8902721343867874.\n",
      "Better model found at epoch 25 with iou value: 0.890837033237949.\n",
      "Better model found at epoch 32 with iou value: 0.8924375327011539.\n",
      "Better model found at epoch 36 with iou value: 0.8937432539933167.\n"
     ]
    },
    {
     "data": {
      "image/png": "[encoded data removed]",
      "text/plain": [
       "<Figure size 1296x576 with 6 Axes>"
      ]
     },
     "metadata": {
      "needs_background": "light"
     },
     "output_type": "display_data"
    }
   ],
   "source": [
    "# Fit\n",
    "learn.fit_one_cycle(cfg.epochs, lr_max=cfg.max_learning_rate)\n",
    "learn.recorder.plot_metrics()"
   ]
  },
  {
   "cell_type": "code",
   "execution_count": 26,
   "id": "requested-check",
   "metadata": {},
   "outputs": [
    {
     "data": {
      "text/html": [
       "<style>\n",
       ".tooltip {\n",
       "  position: relative;\n",
       "  display: inline-block;\n",
       "}\n",
       "\n",
       ".tooltip .tooltiptext {\n",
       "  visibility: hidden;\n",
       "  width: max-content;\n",
       "  max-width: 280px;\n",
       "  background-color: #00bcd4;\n",
       "  text-align: left;\n",
       "  color: white;\n",
       "  border-radius: 4px;\n",
       "  padding: 4px 4px;\n",
       "  border: solid 0px black;\n",
       "  line-height: 1em;\n",
       "\n",
       "  /* Position the tooltip */\n",
       "  position: absolute;\n",
       "  z-index: 1;\n",
       "}\n",
       "\n",
       ".tooltip:hover .tooltiptext {\n",
       "  visibility: visible;\n",
       "}\n",
       "</style>"
      ],
      "text/plain": [
       "<IPython.core.display.HTML object>"
      ]
     },
     "metadata": {},
     "output_type": "display_data"
    }
   ],
   "source": [
    "!mv models/model.pth models/hubmap_pdf_sample_cejaccard_{cfg.tile_size}_{ARCH}_{ENCODER_NAME}_b{cfg.batch_size}.pth"
   ]
  },
  {
   "cell_type": "code",
   "execution_count": null,
   "id": "under-christian",
   "metadata": {},
   "outputs": [],
   "source": []
  }
 ],
 "metadata": {
  "kernelspec": {
   "display_name": "Python 3",
   "language": "python",
   "name": "python3"
  },
  "language_info": {
   "codemirror_mode": {
    "name": "ipython",
    "version": 3
   },
   "file_extension": ".py",
   "mimetype": "text/x-python",
   "name": "python",
   "nbconvert_exporter": "python",
   "pygments_lexer": "ipython3",
   "version": "3.6.10"
  }
 },
 "nbformat": 4,
 "nbformat_minor": 5
}
