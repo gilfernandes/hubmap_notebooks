{
 "cells": [
  {
   "cell_type": "code",
   "execution_count": null,
   "id": "urban-luther",
   "metadata": {},
   "outputs": [],
   "source": [
    "# !pip install -q git+https://github.com/matjesg/deepflash2.git"
   ]
  },
  {
   "cell_type": "code",
   "execution_count": null,
   "id": "false-johnston",
   "metadata": {},
   "outputs": [],
   "source": [
    "# !pip install zarr"
   ]
  },
  {
   "cell_type": "code",
   "execution_count": 1,
   "id": "spanish-demonstration",
   "metadata": {
    "tags": []
   },
   "outputs": [],
   "source": [
    "# imports\n",
    "import zarr, cv2\n",
    "import numpy as np, pandas as pd, segmentation_models_pytorch as smp\n",
    "from deepflash2.all import *\n",
    "from deepflash2.transforms import random_center\n",
    "import albumentations as alb\n",
    "import torch\n",
    "import torch.nn as nn"
   ]
  },
  {
   "cell_type": "code",
   "execution_count": 3,
   "id": "olympic-gathering",
   "metadata": {},
   "outputs": [
    {
     "data": {
      "text/html": [
       "<style>\n",
       ".tooltip {\n",
       "  position: relative;\n",
       "  display: inline-block;\n",
       "}\n",
       "\n",
       ".tooltip .tooltiptext {\n",
       "  visibility: hidden;\n",
       "  width: max-content;\n",
       "  max-width: 280px;\n",
       "  background-color: #00bcd4;\n",
       "  text-align: left;\n",
       "  color: white;\n",
       "  border-radius: 4px;\n",
       "  padding: 4px 4px;\n",
       "  border: solid 0px black;\n",
       "  line-height: 1em;\n",
       "\n",
       "  /* Position the tooltip */\n",
       "  position: absolute;\n",
       "  z-index: 1;\n",
       "}\n",
       "\n",
       ".tooltip:hover .tooltiptext {\n",
       "  visibility: visible;\n",
       "}\n",
       "</style>"
      ],
      "text/plain": [
       "<IPython.core.display.HTML object>"
      ]
     },
     "metadata": {},
     "output_type": "display_data"
    }
   ],
   "source": [
    "from config.global_vars import *"
   ]
  },
  {
   "cell_type": "code",
   "execution_count": 4,
   "id": "roman-affiliation",
   "metadata": {},
   "outputs": [
    {
     "data": {
      "text/html": [
       "<style>\n",
       ".tooltip {\n",
       "  position: relative;\n",
       "  display: inline-block;\n",
       "}\n",
       "\n",
       ".tooltip .tooltiptext {\n",
       "  visibility: hidden;\n",
       "  width: max-content;\n",
       "  max-width: 280px;\n",
       "  background-color: #00bcd4;\n",
       "  text-align: left;\n",
       "  color: white;\n",
       "  border-radius: 4px;\n",
       "  padding: 4px 4px;\n",
       "  border: solid 0px black;\n",
       "  line-height: 1em;\n",
       "\n",
       "  /* Position the tooltip */\n",
       "  position: absolute;\n",
       "  z-index: 1;\n",
       "}\n",
       "\n",
       ".tooltip:hover .tooltiptext {\n",
       "  visibility: visible;\n",
       "}\n",
       "</style>"
      ],
      "text/plain": [
       "<IPython.core.display.HTML object>"
      ]
     },
     "metadata": {},
     "output_type": "display_data"
    }
   ],
   "source": [
    "ARCH = 'pan'"
   ]
  },
  {
   "cell_type": "code",
   "execution_count": 5,
   "id": "described-electron",
   "metadata": {},
   "outputs": [
    {
     "data": {
      "text/html": [
       "<style>\n",
       ".tooltip {\n",
       "  position: relative;\n",
       "  display: inline-block;\n",
       "}\n",
       "\n",
       ".tooltip .tooltiptext {\n",
       "  visibility: hidden;\n",
       "  width: max-content;\n",
       "  max-width: 280px;\n",
       "  background-color: #00bcd4;\n",
       "  text-align: left;\n",
       "  color: white;\n",
       "  border-radius: 4px;\n",
       "  padding: 4px 4px;\n",
       "  border: solid 0px black;\n",
       "  line-height: 1em;\n",
       "\n",
       "  /* Position the tooltip */\n",
       "  position: absolute;\n",
       "  z-index: 1;\n",
       "}\n",
       "\n",
       ".tooltip:hover .tooltiptext {\n",
       "  visibility: visible;\n",
       "}\n",
       "</style>"
      ],
      "text/plain": [
       "<IPython.core.display.HTML object>"
      ]
     },
     "metadata": {},
     "output_type": "display_data"
    }
   ],
   "source": [
    "# Model\n",
    "model = smp.PAN(encoder_name=ENCODER_NAME, \n",
    "                 encoder_weights=ENCODER_WEIGHTS, \n",
    "                 in_channels=CHANNELS, \n",
    "                 classes=CLASSES)\n",
    "if torch.cuda.device_count() > 1:\n",
    "    print(\"Let's use\", torch.cuda.device_count(), \"GPUs!\")\n",
    "    model = nn.DataParallel(model)\n",
    "model.cuda();"
   ]
  },
  {
   "cell_type": "code",
   "execution_count": 6,
   "id": "fatal-words",
   "metadata": {},
   "outputs": [
    {
     "data": {
      "text/html": [
       "<style>\n",
       ".tooltip {\n",
       "  position: relative;\n",
       "  display: inline-block;\n",
       "}\n",
       "\n",
       ".tooltip .tooltiptext {\n",
       "  visibility: hidden;\n",
       "  width: max-content;\n",
       "  max-width: 280px;\n",
       "  background-color: #00bcd4;\n",
       "  text-align: left;\n",
       "  color: white;\n",
       "  border-radius: 4px;\n",
       "  padding: 4px 4px;\n",
       "  border: solid 0px black;\n",
       "  line-height: 1em;\n",
       "\n",
       "  /* Position the tooltip */\n",
       "  position: absolute;\n",
       "  z-index: 1;\n",
       "}\n",
       "\n",
       ".tooltip:hover .tooltiptext {\n",
       "  visibility: visible;\n",
       "}\n",
       "</style>"
      ],
      "text/plain": [
       "<IPython.core.display.HTML object>"
      ]
     },
     "metadata": {},
     "output_type": "display_data"
    }
   ],
   "source": [
    "from fastai.vision.all import *"
   ]
  },
  {
   "cell_type": "code",
   "execution_count": 8,
   "id": "excellent-eight",
   "metadata": {},
   "outputs": [
    {
     "data": {
      "text/html": [
       "<style>\n",
       ".tooltip {\n",
       "  position: relative;\n",
       "  display: inline-block;\n",
       "}\n",
       "\n",
       ".tooltip .tooltiptext {\n",
       "  visibility: hidden;\n",
       "  width: max-content;\n",
       "  max-width: 280px;\n",
       "  background-color: #00bcd4;\n",
       "  text-align: left;\n",
       "  color: white;\n",
       "  border-radius: 4px;\n",
       "  padding: 4px 4px;\n",
       "  border: solid 0px black;\n",
       "  line-height: 1em;\n",
       "\n",
       "  /* Position the tooltip */\n",
       "  position: absolute;\n",
       "  z-index: 1;\n",
       "}\n",
       "\n",
       ".tooltip:hover .tooltiptext {\n",
       "  visibility: visible;\n",
       "}\n",
       "</style>"
      ],
      "text/plain": [
       "<IPython.core.display.HTML object>"
      ]
     },
     "metadata": {},
     "output_type": "display_data"
    },
    {
     "data": {
      "text/plain": [
       "\u001b[0;31mInit signature:\u001b[0m \u001b[0mIou\u001b[0m\u001b[0;34m(\u001b[0m\u001b[0maxis\u001b[0m\u001b[0;34m=\u001b[0m\u001b[0;36m1\u001b[0m\u001b[0;34m)\u001b[0m\u001b[0;34m\u001b[0m\u001b[0;34m\u001b[0m\u001b[0m\n",
       "\u001b[0;31mSource:\u001b[0m        \n",
       "\u001b[0;32mclass\u001b[0m \u001b[0mIou\u001b[0m\u001b[0;34m(\u001b[0m\u001b[0mDice_f1\u001b[0m\u001b[0;34m)\u001b[0m\u001b[0;34m:\u001b[0m\u001b[0;34m\u001b[0m\n",
       "\u001b[0;34m\u001b[0m    \u001b[0;34m\"Implemetation of the IoU (jaccard coefficient) that is lighter in RAM\"\u001b[0m\u001b[0;34m\u001b[0m\n",
       "\u001b[0;34m\u001b[0m    \u001b[0;34m@\u001b[0m\u001b[0mproperty\u001b[0m\u001b[0;34m\u001b[0m\n",
       "\u001b[0;34m\u001b[0m    \u001b[0;32mdef\u001b[0m \u001b[0mvalue\u001b[0m\u001b[0;34m(\u001b[0m\u001b[0mself\u001b[0m\u001b[0;34m)\u001b[0m\u001b[0;34m:\u001b[0m \u001b[0;32mreturn\u001b[0m \u001b[0mself\u001b[0m\u001b[0;34m.\u001b[0m\u001b[0minter\u001b[0m\u001b[0;34m/\u001b[0m\u001b[0;34m(\u001b[0m\u001b[0mself\u001b[0m\u001b[0;34m.\u001b[0m\u001b[0munion\u001b[0m\u001b[0;34m-\u001b[0m\u001b[0mself\u001b[0m\u001b[0;34m.\u001b[0m\u001b[0minter\u001b[0m\u001b[0;34m)\u001b[0m \u001b[0;32mif\u001b[0m \u001b[0mself\u001b[0m\u001b[0;34m.\u001b[0m\u001b[0munion\u001b[0m \u001b[0;34m>\u001b[0m \u001b[0;36m0\u001b[0m \u001b[0;32melse\u001b[0m \u001b[0;32mNone\u001b[0m\u001b[0;34m\u001b[0m\u001b[0;34m\u001b[0m\u001b[0m\n",
       "\u001b[0;31mFile:\u001b[0m           /opt/conda/lib/python3.6/site-packages/deepflash2/metrics.py\n",
       "\u001b[0;31mType:\u001b[0m           type\n",
       "\u001b[0;31mSubclasses:\u001b[0m     \n"
      ]
     },
     "metadata": {},
     "output_type": "display_data"
    }
   ],
   "source": [
    "??Iou"
   ]
  },
  {
   "cell_type": "code",
   "execution_count": null,
   "id": "growing-yahoo",
   "metadata": {},
   "outputs": [],
   "source": [
    "@patch\n",
    "def read_img(self:BaseDataset, file, *args, **kwargs):\n",
    "    return zarr.open(str(file), mode='r')\n",
    "\n",
    "@patch\n",
    "def _name_fn(self:BaseDataset, g):\n",
    "    \"Name of preprocessed and compressed data.\"\n",
    "    return f'{g}'\n",
    "\n",
    "@patch\n",
    "def apply(self:DeformationField, data, offset=(0, 0), pad=(0, 0), order=1):\n",
    "    \"Apply deformation field to image using interpolation\"\n",
    "    outshape = tuple(int(s - p) for (s, p) in zip(self.shape, pad))\n",
    "    coords = [np.squeeze(d).astype('float32').reshape(*outshape) for d in self.get(offset, pad)]\n",
    "    # Get slices to avoid loading all data (.zarr files)\n",
    "    sl = []\n",
    "    for i in range(len(coords)):\n",
    "        cmin, cmax = int(coords[i].min()), int(coords[i].max())\n",
    "        dmax = data.shape[i]\n",
    "        if cmin<0: \n",
    "            cmax = max(-cmin, cmax)\n",
    "            cmin = 0 \n",
    "        elif cmax>dmax:\n",
    "            cmin = min(cmin, 2*dmax-cmax)\n",
    "            cmax = dmax\n",
    "            coords[i] -= cmin\n",
    "        else: coords[i] -= cmin\n",
    "        sl.append(slice(cmin, cmax))    \n",
    "    if len(data.shape) == len(self.shape) + 1:\n",
    "        tile = np.empty((*outshape, data.shape[-1]))\n",
    "        for c in range(data.shape[-1]):\n",
    "            # Adding divide\n",
    "            tile[..., c] = cv2.remap(data[sl[0],sl[1], c]/255, coords[1],coords[0], interpolation=order, borderMode=cv2.BORDER_REFLECT)\n",
    "    else:\n",
    "        tile = cv2.remap(data[sl[0], sl[1]], coords[1], coords[0], interpolation=order, borderMode=cv2.BORDER_REFLECT)\n",
    "    return tile"
   ]
  },
  {
   "cell_type": "code",
   "execution_count": null,
   "id": "prime-leone",
   "metadata": {},
   "outputs": [],
   "source": [
    "@patch\n",
    "def __getitem__(self:RandomTileDataset, idx):\n",
    "    idx = idx % len(self.files)\n",
    "    if torch.is_tensor(idx):\n",
    "        idx = idx.tolist()\n",
    "\n",
    "    img_path = self.files[idx]\n",
    "    img = self.read_img(img_path, divide=self.divide)\n",
    "    n_channels = img.shape[-1]\n",
    "\n",
    "    lbl, pdf  = self.labels[img_path.name], self.pdfs[self._name_fn(img_path.name)]\n",
    "    center = random_center(pdf[:], lbl.shape, TILE_SHAPE)\n",
    "    X = self.gammaFcn(self.deformationField.apply(img, center).flatten()).reshape((*self.tile_shape, n_channels))\n",
    "    Y = self.deformationField.apply(lbl, center, self.padding, 0)\n",
    "    X1 = X.copy()\n",
    "\n",
    "    if self.albumentations_tfms:\n",
    "        augmented = self.albumentations_tfms(image=(X*255).astype('uint8'),mask=Y.astype('uint8'))\n",
    "        X = (augmented['image']/255)\n",
    "        Y = augmented['mask']\n",
    "\n",
    "    X = X.transpose(2, 0, 1).astype('float32')\n",
    "    Y = Y.astype('int64')\n",
    "\n",
    "    if self.loss_weights:\n",
    "        _, W = cv2.connectedComponents((Y > 0).astype('uint8'), connectivity=4)\n",
    "        return  TensorImage(X), TensorMask(Y), torch.Tensor(W)\n",
    "    else:\n",
    "        return  TensorImage(X), TensorMask(Y)"
   ]
  },
  {
   "cell_type": "code",
   "execution_count": null,
   "id": "outer-startup",
   "metadata": {},
   "outputs": [],
   "source": [
    "@patch\n",
    "def _do_one_batch(self:Learner):\n",
    "    self.pred = self.model(*self.xb)\n",
    "    self('after_pred')\n",
    "    if len(self.yb):\n",
    "        self.loss_grad = self.loss_func(self.pred, *self.yb)\n",
    "        self.loss = self.loss_grad.clone()\n",
    "    self('after_loss')\n",
    "    if not self.training or not len(self.yb): return\n",
    "    self('before_backward')\n",
    "    self.loss_grad.backward()\n",
    "    self._with_events(self.opt.step, 'step', CancelStepException)\n",
    "    self.opt.zero_grad()"
   ]
  },
  {
   "cell_type": "markdown",
   "id": "endless-hamburg",
   "metadata": {},
   "source": [
    "### Configuration"
   ]
  },
  {
   "cell_type": "code",
   "execution_count": null,
   "id": "different-strap",
   "metadata": {},
   "outputs": [],
   "source": [
    "class CONFIG():\n",
    "    \n",
    "    # data paths\n",
    "    data_path = Path('/home/jupyter/data_2/')\n",
    "    data_path_zarr = Path('/home/jupyter/train_scale2')\n",
    "    mask_preproc_dir = '/home/jupyter/masks_scale2'\n",
    "    \n",
    "    # deepflash2 dataset\n",
    "    # scale = 1.5 # data is already downscaled to 2, so absulute downscale is 3\n",
    "    scale = 1 # data is already downscaled to 2, so absulute downscale is 3\n",
    "    tile_shape = (TILE_SHAPE, TILE_SHAPE)\n",
    "    padding = (0,0) # Border overlap for prediction\n",
    "    n_jobs = NUM_WORKERS\n",
    "    sample_mult = 200 # Sample 100 tiles from each image, per epoch\n",
    "    val_length = 500 # Randomly sample 500 validation tiles\n",
    "    stats = np.array([0.61561477, 0.5179343 , 0.64067212]), np.array([0.2915353 , 0.31549066, 0.28647661])\n",
    "    \n",
    "    # deepflash2 augmentation options\n",
    "    zoom_sigma = 0.1\n",
    "    flip = True\n",
    "    max_rotation = 360\n",
    "    deformation_grid_size = (150,150)\n",
    "    deformation_magnitude = (10,10)\n",
    "\n",
    "    # pytorch model (segmentation_models_pytorch)\n",
    "    encoder_name = ENCODER_NAME\n",
    "    encoder_weights = ENCODER_WEIGHTS\n",
    "    in_channels = 3\n",
    "    classes = 2\n",
    "    \n",
    "    # fastai Learner \n",
    "    mixed_precision_training = True\n",
    "    batch_size = 8\n",
    "    weight_decay = 0.01\n",
    "    loss_func = CrossEntropyLossFlat(axis=1)\n",
    "    metrics = [Iou(), Dice_f1()]\n",
    "    optimizer = ranger\n",
    "    max_learning_rate = 1e-3\n",
    "    epochs = 15\n",
    "    \n",
    "cfg = CONFIG()"
   ]
  },
  {
   "cell_type": "code",
   "execution_count": null,
   "id": "affecting-reply",
   "metadata": {},
   "outputs": [],
   "source": [
    "# Albumentations augmentations\n",
    "# Inspired by https://www.kaggle.com/iafoss/hubmap-pytorch-fast-ai-starter\n",
    "# deepflash2 augmentations are only affine transformations\n",
    "tfms = alb.OneOf([\n",
    "    alb.HueSaturationValue(10,15,10),\n",
    "    alb.CLAHE(clip_limit=2),\n",
    "    alb.RandomBrightnessContrast(),            \n",
    "    ], p=0.3)"
   ]
  },
  {
   "cell_type": "code",
   "execution_count": null,
   "id": "genuine-cleaner",
   "metadata": {},
   "outputs": [],
   "source": [
    "df_train = pd.read_csv(cfg.data_path/'train.csv')\n",
    "df_info = pd.read_csv(cfg.data_path/'HuBMAP-20-dataset_information.csv')\n",
    "\n",
    "files = [x for x in cfg.data_path_zarr.iterdir() if x.is_dir() if not x.name.startswith('.')]\n",
    "label_fn = lambda o: o"
   ]
  },
  {
   "cell_type": "code",
   "execution_count": null,
   "id": "enabling-rogers",
   "metadata": {},
   "outputs": [],
   "source": [
    "!ls {cfg.mask_preproc_dir}"
   ]
  },
  {
   "cell_type": "markdown",
   "id": "excessive-breeding",
   "metadata": {},
   "source": [
    "### Training"
   ]
  },
  {
   "cell_type": "code",
   "execution_count": null,
   "id": "sporting-delivery",
   "metadata": {},
   "outputs": [],
   "source": [
    "# Datasets\n",
    "ds_kwargs = {\n",
    "    'tile_shape':cfg.tile_shape,\n",
    "    'padding':cfg.padding,\n",
    "    'scale': cfg.scale,\n",
    "    'n_jobs': cfg.n_jobs, \n",
    "    'preproc_dir': cfg.mask_preproc_dir, \n",
    "    'val_length':cfg.val_length, \n",
    "    'sample_mult':cfg.sample_mult,\n",
    "    'loss_weights':False,\n",
    "    'zoom_sigma': cfg.zoom_sigma,\n",
    "    'flip' : cfg.flip,\n",
    "    'max_rotation': cfg.max_rotation,\n",
    "    'deformation_grid_size' : cfg.deformation_grid_size,\n",
    "    'deformation_magnitude' : cfg.deformation_magnitude,\n",
    "    'albumentations_tfms': tfms\n",
    "}\n",
    "\n",
    "train_ds = RandomTileDataset(files, label_fn=label_fn, **ds_kwargs)\n",
    "valid_ds = TileDataset(files, label_fn=label_fn, **ds_kwargs, is_zarr=True)"
   ]
  },
  {
   "cell_type": "code",
   "execution_count": null,
   "id": "willing-donor",
   "metadata": {},
   "outputs": [],
   "source": [
    "image, mask = train_ds[0]"
   ]
  },
  {
   "cell_type": "code",
   "execution_count": null,
   "id": "invisible-savage",
   "metadata": {},
   "outputs": [],
   "source": [
    "image = image.unsqueeze(0)\n",
    "image.shape"
   ]
  },
  {
   "cell_type": "code",
   "execution_count": null,
   "id": "perfect-religion",
   "metadata": {},
   "outputs": [],
   "source": [
    "cross_entropy = CrossEntropyLossFlat(axis=1)\n",
    "\n",
    "LOSS_WEIGHT = 0.2\n",
    "\n",
    "def loss_fn(y_pred, targets, eps = 1e-7):\n",
    "    true_1_hot = torch.eye(2)[targets]\n",
    "    true_1_hot = true_1_hot.permute(0, 3, 1, 2).float()\n",
    "    probas = F.softmax(y_pred, dim=1)\n",
    "    true_1_hot = true_1_hot.type(y_pred.type())\n",
    "    dims = (0,) + tuple(range(2, targets.ndimension()))\n",
    "    intersection = torch.sum(probas * true_1_hot, dims)\n",
    "    cardinality = torch.sum(probas + true_1_hot, dims)\n",
    "    dice_loss = (2. * intersection / (cardinality + eps)).mean()\n",
    "\n",
    "    ce_loss = cross_entropy(y_pred, targets)\n",
    "    return (1 - dice_loss) * LOSS_WEIGHT + ce_loss * (1 - LOSS_WEIGHT)"
   ]
  },
  {
   "cell_type": "code",
   "execution_count": null,
   "id": "urban-bernard",
   "metadata": {},
   "outputs": [],
   "source": [
    "# Dataloader and learner\n",
    "dls = DataLoaders.from_dsets(train_ds, valid_ds, bs=cfg.batch_size, after_batch=Normalize.from_stats(*cfg.stats))\n",
    "if torch.cuda.is_available(): dls.cuda(), model.cuda()\n",
    "cbs = [SaveModelCallback(monitor='iou'), ElasticDeformCallback]\n",
    "learn = Learner(dls, model, metrics=cfg.metrics, wd=cfg.weight_decay, loss_func=loss_fn, opt_func=ranger, cbs=cbs)\n",
    "if cfg.mixed_precision_training: learn.to_fp16()"
   ]
  },
  {
   "cell_type": "code",
   "execution_count": null,
   "id": "tribal-accommodation",
   "metadata": {},
   "outputs": [],
   "source": [
    "learn.lr_find()"
   ]
  },
  {
   "cell_type": "code",
   "execution_count": null,
   "id": "solved-bargain",
   "metadata": {},
   "outputs": [],
   "source": [
    "# Fit\n",
    "learn.fit_one_cycle(cfg.epochs, lr_max=cfg.max_learning_rate)\n",
    "learn.recorder.plot_metrics()"
   ]
  },
  {
   "cell_type": "code",
   "execution_count": null,
   "id": "complex-cancer",
   "metadata": {},
   "outputs": [],
   "source": [
    "!mv models/model.pth models/hubmap_pdf_sample_dice_loss_{ARCH}_{ENCODER_NAME}_b{cfg.batch_size}.pth"
   ]
  },
  {
   "cell_type": "code",
   "execution_count": null,
   "id": "false-recruitment",
   "metadata": {},
   "outputs": [],
   "source": []
  }
 ],
 "metadata": {
  "kernelspec": {
   "display_name": "Python 3",
   "language": "python",
   "name": "python3"
  },
  "language_info": {
   "codemirror_mode": {
    "name": "ipython",
    "version": 3
   },
   "file_extension": ".py",
   "mimetype": "text/x-python",
   "name": "python",
   "nbconvert_exporter": "python",
   "pygments_lexer": "ipython3",
   "version": "3.6.10"
  }
 },
 "nbformat": 4,
 "nbformat_minor": 5
}
