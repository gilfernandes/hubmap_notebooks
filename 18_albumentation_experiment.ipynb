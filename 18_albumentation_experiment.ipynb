{
 "cells": [
  {
   "cell_type": "code",
   "execution_count": 1,
   "metadata": {},
   "outputs": [],
   "source": [
    "%load_ext autoreload\n",
    "%autoreload 2"
   ]
  },
  {
   "cell_type": "code",
   "execution_count": 7,
   "metadata": {},
   "outputs": [
    {
     "name": "stdout",
     "output_type": "stream",
     "text": [
      "Collecting autoalbument\n",
      "  Downloading autoalbument-0.3.0-py3-none-any.whl (41 kB)\n",
      "\u001b[K     |████████████████████████████████| 41 kB 691 kB/s eta 0:00:011\n",
      "\u001b[?25hRequirement already satisfied: colorama in /opt/conda/lib/python3.7/site-packages (from autoalbument) (0.4.4)\n",
      "Requirement already satisfied: tensorboard in /opt/conda/lib/python3.7/site-packages (from autoalbument) (2.4.1)\n",
      "Requirement already satisfied: timm>=0.3.2 in /opt/conda/lib/python3.7/site-packages (from autoalbument) (0.3.2)\n",
      "Requirement already satisfied: tqdm in /opt/conda/lib/python3.7/site-packages (from autoalbument) (4.55.1)\n",
      "Requirement already satisfied: torch>=1.6.0 in /opt/conda/lib/python3.7/site-packages (from autoalbument) (1.7.0)\n",
      "Collecting hydra-core>=1.0\n",
      "  Downloading hydra_core-1.0.6-py3-none-any.whl (123 kB)\n",
      "\u001b[K     |████████████████████████████████| 123 kB 7.3 MB/s eta 0:00:01\n",
      "\u001b[?25hRequirement already satisfied: segmentation-models-pytorch>=0.1.3 in /opt/conda/lib/python3.7/site-packages (from autoalbument) (0.1.3)\n",
      "Requirement already satisfied: albumentations>=0.5.1 in /opt/conda/lib/python3.7/site-packages (from autoalbument) (0.5.2)\n",
      "Requirement already satisfied: click in /opt/conda/lib/python3.7/site-packages (from autoalbument) (7.1.2)\n",
      "Requirement already satisfied: numpy>=1.11.1 in /opt/conda/lib/python3.7/site-packages (from albumentations>=0.5.1->autoalbument) (1.19.5)\n",
      "Requirement already satisfied: scipy in /opt/conda/lib/python3.7/site-packages (from albumentations>=0.5.1->autoalbument) (1.4.1)\n",
      "Requirement already satisfied: opencv-python-headless>=4.1.1 in /opt/conda/lib/python3.7/site-packages (from albumentations>=0.5.1->autoalbument) (4.5.1.48)\n",
      "Requirement already satisfied: imgaug>=0.4.0 in /opt/conda/lib/python3.7/site-packages (from albumentations>=0.5.1->autoalbument) (0.4.0)\n",
      "Requirement already satisfied: scikit-image>=0.16.1 in /opt/conda/lib/python3.7/site-packages (from albumentations>=0.5.1->autoalbument) (0.18.1)\n",
      "Requirement already satisfied: PyYAML in /opt/conda/lib/python3.7/site-packages (from albumentations>=0.5.1->autoalbument) (5.3.1)\n",
      "Collecting antlr4-python3-runtime==4.8\n",
      "  Downloading antlr4-python3-runtime-4.8.tar.gz (112 kB)\n",
      "\u001b[K     |████████████████████████████████| 112 kB 40.6 MB/s eta 0:00:01\n",
      "\u001b[?25hCollecting importlib-resources\n",
      "  Downloading importlib_resources-5.1.0-py3-none-any.whl (24 kB)\n",
      "Collecting omegaconf<2.1,>=2.0.5\n",
      "  Downloading omegaconf-2.0.6-py3-none-any.whl (36 kB)\n",
      "Requirement already satisfied: Shapely in /opt/conda/lib/python3.7/site-packages (from imgaug>=0.4.0->albumentations>=0.5.1->autoalbument) (1.7.1)\n",
      "Requirement already satisfied: matplotlib in /opt/conda/lib/python3.7/site-packages (from imgaug>=0.4.0->albumentations>=0.5.1->autoalbument) (3.3.3)\n",
      "Requirement already satisfied: imageio in /opt/conda/lib/python3.7/site-packages (from imgaug>=0.4.0->albumentations>=0.5.1->autoalbument) (2.9.0)\n",
      "Requirement already satisfied: Pillow in /opt/conda/lib/python3.7/site-packages (from imgaug>=0.4.0->albumentations>=0.5.1->autoalbument) (7.2.0)\n",
      "Requirement already satisfied: opencv-python in /opt/conda/lib/python3.7/site-packages (from imgaug>=0.4.0->albumentations>=0.5.1->autoalbument) (4.5.1.48)\n",
      "Requirement already satisfied: six in /opt/conda/lib/python3.7/site-packages (from imgaug>=0.4.0->albumentations>=0.5.1->autoalbument) (1.15.0)\n",
      "Requirement already satisfied: typing-extensions in /opt/conda/lib/python3.7/site-packages (from omegaconf<2.1,>=2.0.5->hydra-core>=1.0->autoalbument) (3.7.4.3)\n",
      "Requirement already satisfied: PyWavelets>=1.1.1 in /opt/conda/lib/python3.7/site-packages (from scikit-image>=0.16.1->albumentations>=0.5.1->autoalbument) (1.1.1)\n",
      "Requirement already satisfied: tifffile>=2019.7.26 in /opt/conda/lib/python3.7/site-packages (from scikit-image>=0.16.1->albumentations>=0.5.1->autoalbument) (2021.2.1)\n",
      "Requirement already satisfied: networkx>=2.0 in /opt/conda/lib/python3.7/site-packages (from scikit-image>=0.16.1->albumentations>=0.5.1->autoalbument) (2.5)\n",
      "Requirement already satisfied: pyparsing!=2.0.4,!=2.1.2,!=2.1.6,>=2.0.3 in /opt/conda/lib/python3.7/site-packages (from matplotlib->imgaug>=0.4.0->albumentations>=0.5.1->autoalbument) (2.4.7)\n",
      "Requirement already satisfied: kiwisolver>=1.0.1 in /opt/conda/lib/python3.7/site-packages (from matplotlib->imgaug>=0.4.0->albumentations>=0.5.1->autoalbument) (1.3.1)\n",
      "Requirement already satisfied: python-dateutil>=2.1 in /opt/conda/lib/python3.7/site-packages (from matplotlib->imgaug>=0.4.0->albumentations>=0.5.1->autoalbument) (2.8.1)\n",
      "Requirement already satisfied: cycler>=0.10 in /opt/conda/lib/python3.7/site-packages (from matplotlib->imgaug>=0.4.0->albumentations>=0.5.1->autoalbument) (0.10.0)\n",
      "Requirement already satisfied: decorator>=4.3.0 in /opt/conda/lib/python3.7/site-packages (from networkx>=2.0->scikit-image>=0.16.1->albumentations>=0.5.1->autoalbument) (4.4.2)\n",
      "Requirement already satisfied: pretrainedmodels==0.7.4 in /opt/conda/lib/python3.7/site-packages (from segmentation-models-pytorch>=0.1.3->autoalbument) (0.7.4)\n",
      "Requirement already satisfied: torchvision>=0.3.0 in /opt/conda/lib/python3.7/site-packages (from segmentation-models-pytorch>=0.1.3->autoalbument) (0.8.1)\n",
      "Requirement already satisfied: efficientnet-pytorch==0.6.3 in /opt/conda/lib/python3.7/site-packages (from segmentation-models-pytorch>=0.1.3->autoalbument) (0.6.3)\n",
      "Requirement already satisfied: munch in /opt/conda/lib/python3.7/site-packages (from pretrainedmodels==0.7.4->segmentation-models-pytorch>=0.1.3->autoalbument) (2.5.0)\n",
      "Requirement already satisfied: future in /opt/conda/lib/python3.7/site-packages (from torch>=1.6.0->autoalbument) (0.18.2)\n",
      "Requirement already satisfied: dataclasses in /opt/conda/lib/python3.7/site-packages (from torch>=1.6.0->autoalbument) (0.6)\n",
      "Requirement already satisfied: zipp>=0.4 in /opt/conda/lib/python3.7/site-packages (from importlib-resources->hydra-core>=1.0->autoalbument) (3.4.0)\n",
      "Requirement already satisfied: google-auth-oauthlib<0.5,>=0.4.1 in /opt/conda/lib/python3.7/site-packages (from tensorboard->autoalbument) (0.4.2)\n",
      "Requirement already satisfied: grpcio>=1.24.3 in /opt/conda/lib/python3.7/site-packages (from tensorboard->autoalbument) (1.32.0)\n",
      "Requirement already satisfied: requests<3,>=2.21.0 in /opt/conda/lib/python3.7/site-packages (from tensorboard->autoalbument) (2.25.1)\n",
      "Requirement already satisfied: markdown>=2.6.8 in /opt/conda/lib/python3.7/site-packages (from tensorboard->autoalbument) (3.3.3)\n",
      "Requirement already satisfied: wheel>=0.26 in /opt/conda/lib/python3.7/site-packages (from tensorboard->autoalbument) (0.36.2)\n",
      "Requirement already satisfied: tensorboard-plugin-wit>=1.6.0 in /opt/conda/lib/python3.7/site-packages (from tensorboard->autoalbument) (1.8.0)\n",
      "Requirement already satisfied: werkzeug>=0.11.15 in /opt/conda/lib/python3.7/site-packages (from tensorboard->autoalbument) (1.0.1)\n",
      "Requirement already satisfied: setuptools>=41.0.0 in /opt/conda/lib/python3.7/site-packages (from tensorboard->autoalbument) (49.6.0.post20201009)\n",
      "Requirement already satisfied: absl-py>=0.4 in /opt/conda/lib/python3.7/site-packages (from tensorboard->autoalbument) (0.10.0)\n",
      "Requirement already satisfied: protobuf>=3.6.0 in /opt/conda/lib/python3.7/site-packages (from tensorboard->autoalbument) (3.14.0)\n",
      "Requirement already satisfied: google-auth<2,>=1.6.3 in /opt/conda/lib/python3.7/site-packages (from tensorboard->autoalbument) (1.24.0)\n",
      "Requirement already satisfied: pyasn1-modules>=0.2.1 in /opt/conda/lib/python3.7/site-packages (from google-auth<2,>=1.6.3->tensorboard->autoalbument) (0.2.7)\n",
      "Requirement already satisfied: cachetools<5.0,>=2.0.0 in /opt/conda/lib/python3.7/site-packages (from google-auth<2,>=1.6.3->tensorboard->autoalbument) (4.1.1)\n",
      "Requirement already satisfied: rsa<5,>=3.1.4 in /opt/conda/lib/python3.7/site-packages (from google-auth<2,>=1.6.3->tensorboard->autoalbument) (4.6)\n",
      "Requirement already satisfied: requests-oauthlib>=0.7.0 in /opt/conda/lib/python3.7/site-packages (from google-auth-oauthlib<0.5,>=0.4.1->tensorboard->autoalbument) (1.3.0)\n",
      "Requirement already satisfied: importlib-metadata in /opt/conda/lib/python3.7/site-packages (from markdown>=2.6.8->tensorboard->autoalbument) (3.3.0)\n",
      "Requirement already satisfied: pyasn1<0.5.0,>=0.4.6 in /opt/conda/lib/python3.7/site-packages (from pyasn1-modules>=0.2.1->google-auth<2,>=1.6.3->tensorboard->autoalbument) (0.4.8)\n",
      "Requirement already satisfied: idna<3,>=2.5 in /opt/conda/lib/python3.7/site-packages (from requests<3,>=2.21.0->tensorboard->autoalbument) (2.10)\n",
      "Requirement already satisfied: certifi>=2017.4.17 in /opt/conda/lib/python3.7/site-packages (from requests<3,>=2.21.0->tensorboard->autoalbument) (2020.12.5)\n",
      "Requirement already satisfied: urllib3<1.27,>=1.21.1 in /opt/conda/lib/python3.7/site-packages (from requests<3,>=2.21.0->tensorboard->autoalbument) (1.26.2)\n",
      "Requirement already satisfied: chardet<5,>=3.0.2 in /opt/conda/lib/python3.7/site-packages (from requests<3,>=2.21.0->tensorboard->autoalbument) (3.0.4)\n",
      "Requirement already satisfied: oauthlib>=3.0.0 in /opt/conda/lib/python3.7/site-packages (from requests-oauthlib>=0.7.0->google-auth-oauthlib<0.5,>=0.4.1->tensorboard->autoalbument) (3.0.1)\n",
      "Building wheels for collected packages: antlr4-python3-runtime\n",
      "  Building wheel for antlr4-python3-runtime (setup.py) ... \u001b[?25ldone\n",
      "\u001b[?25h  Created wheel for antlr4-python3-runtime: filename=antlr4_python3_runtime-4.8-py3-none-any.whl size=141230 sha256=1335b662de94786394dd911d79e18c5db1899652123ff07b455768ca25285f03\n",
      "  Stored in directory: /root/.cache/pip/wheels/ca/33/b7/336836125fc9bb4ceaa4376d8abca10ca8bc84ddc824baea6c\n",
      "Successfully built antlr4-python3-runtime\n",
      "Installing collected packages: omegaconf, importlib-resources, antlr4-python3-runtime, hydra-core, autoalbument\n",
      "Successfully installed antlr4-python3-runtime-4.8 autoalbument-0.3.0 hydra-core-1.0.6 importlib-resources-5.1.0 omegaconf-2.0.6\n"
     ]
    }
   ],
   "source": [
    "!pip install -U autoalbument"
   ]
  },
  {
   "cell_type": "code",
   "execution_count": 3,
   "metadata": {},
   "outputs": [],
   "source": [
    "from albument_experiment import dataset"
   ]
  },
  {
   "cell_type": "code",
   "execution_count": 4,
   "metadata": {},
   "outputs": [
    {
     "data": {
      "application/vnd.jupyter.widget-view+json": {
       "model_id": "e94822ef04864cd3b8b95ed0f4d424db",
       "version_major": 2,
       "version_minor": 0
      },
      "text/plain": [
       "  0%|          | 0/8 [00:00<?, ?it/s]"
      ]
     },
     "metadata": {},
     "output_type": "display_data"
    },
    {
     "name": "stdout",
     "output_type": "stream",
     "text": [
      "Building slices from image: /home/jupyter/data/train/2f6ecfcdf.tiff\n"
     ]
    },
    {
     "name": "stderr",
     "output_type": "stream",
     "text": [
      "/opt/conda/lib/python3.7/site-packages/rasterio/__init__.py:207: NotGeoreferencedWarning: Dataset has no geotransform, gcps, or rpcs. The identity matrix be returned.\n",
      "  s = DatasetReader(path, driver=driver, sharing=sharing, **kwargs)\n"
     ]
    },
    {
     "name": "stdout",
     "output_type": "stream",
     "text": [
      "Building slices from image: /home/jupyter/data/train/aaa6a05cc.tiff\n",
      "Building slices from image: /home/jupyter/data/train/cb2d976f4.tiff\n",
      "Building slices from image: /home/jupyter/data/train/0486052bb.tiff\n",
      "Building slices from image: /home/jupyter/data/train/e79de561c.tiff\n",
      "Building slices from image: /home/jupyter/data/train/095bf7a1f.tiff\n",
      "Building slices from image: /home/jupyter/data/train/54f2eec69.tiff\n",
      "Building slices from image: /home/jupyter/data/train/1e2425f28.tiff\n"
     ]
    }
   ],
   "source": [
    "sample_ds = dataset.SearchDataset(None)"
   ]
  },
  {
   "cell_type": "code",
   "execution_count": 5,
   "metadata": {},
   "outputs": [
    {
     "data": {
      "text/plain": [
       "(512, 512, 3)"
      ]
     },
     "execution_count": 5,
     "metadata": {},
     "output_type": "execute_result"
    }
   ],
   "source": [
    "sample_ds[1][0].shape"
   ]
  },
  {
   "cell_type": "code",
   "execution_count": 6,
   "metadata": {},
   "outputs": [
    {
     "data": {
      "application/vnd.jupyter.widget-view+json": {
       "model_id": "bed38663423648aca9e4b753692c9c2f",
       "version_major": 2,
       "version_minor": 0
      },
      "text/plain": [
       "  0%|          | 0/3938 [00:00<?, ?it/s]"
      ]
     },
     "metadata": {},
     "output_type": "display_data"
    },
    {
     "name": "stdout",
     "output_type": "stream",
     "text": [
      "Writing to /home/jupyter/ds_cache_albumentation/image_0\n",
      "Writing to /home/jupyter/ds_cache_albumentation/image_100\n",
      "Writing to /home/jupyter/ds_cache_albumentation/image_200\n",
      "Writing to /home/jupyter/ds_cache_albumentation/image_300\n",
      "Writing to /home/jupyter/ds_cache_albumentation/image_400\n",
      "Writing to /home/jupyter/ds_cache_albumentation/image_500\n",
      "Writing to /home/jupyter/ds_cache_albumentation/image_600\n",
      "Writing to /home/jupyter/ds_cache_albumentation/image_700\n",
      "Writing to /home/jupyter/ds_cache_albumentation/image_800\n",
      "Writing to /home/jupyter/ds_cache_albumentation/image_900\n",
      "Writing to /home/jupyter/ds_cache_albumentation/image_1000\n",
      "Writing to /home/jupyter/ds_cache_albumentation/image_1100\n",
      "Writing to /home/jupyter/ds_cache_albumentation/image_1200\n",
      "Writing to /home/jupyter/ds_cache_albumentation/image_1300\n",
      "Writing to /home/jupyter/ds_cache_albumentation/image_1400\n",
      "Writing to /home/jupyter/ds_cache_albumentation/image_1500\n",
      "Writing to /home/jupyter/ds_cache_albumentation/image_1600\n",
      "Writing to /home/jupyter/ds_cache_albumentation/image_1700\n",
      "Writing to /home/jupyter/ds_cache_albumentation/image_1800\n",
      "Writing to /home/jupyter/ds_cache_albumentation/image_1900\n",
      "Writing to /home/jupyter/ds_cache_albumentation/image_2000\n",
      "Writing to /home/jupyter/ds_cache_albumentation/image_2100\n",
      "Writing to /home/jupyter/ds_cache_albumentation/image_2200\n",
      "Writing to /home/jupyter/ds_cache_albumentation/image_2300\n",
      "Writing to /home/jupyter/ds_cache_albumentation/image_2400\n",
      "Writing to /home/jupyter/ds_cache_albumentation/image_2500\n",
      "Writing to /home/jupyter/ds_cache_albumentation/image_2600\n",
      "Writing to /home/jupyter/ds_cache_albumentation/image_2700\n",
      "Writing to /home/jupyter/ds_cache_albumentation/image_2800\n",
      "Writing to /home/jupyter/ds_cache_albumentation/image_2900\n",
      "Writing to /home/jupyter/ds_cache_albumentation/image_3000\n",
      "Writing to /home/jupyter/ds_cache_albumentation/image_3100\n",
      "Writing to /home/jupyter/ds_cache_albumentation/image_3200\n",
      "Writing to /home/jupyter/ds_cache_albumentation/image_3300\n",
      "Writing to /home/jupyter/ds_cache_albumentation/image_3400\n",
      "Writing to /home/jupyter/ds_cache_albumentation/image_3500\n",
      "Writing to /home/jupyter/ds_cache_albumentation/image_3600\n",
      "Writing to /home/jupyter/ds_cache_albumentation/image_3700\n",
      "Writing to /home/jupyter/ds_cache_albumentation/image_3800\n",
      "Writing to /home/jupyter/ds_cache_albumentation/image_3900\n"
     ]
    }
   ],
   "source": [
    "from tqdm.notebook import tqdm\n",
    "\n",
    "for i in tqdm(range(len(sample_ds))):\n",
    "    image, mask = sample_ds[i][0], sample_ds[i][1]\n",
    "#     print(image.shape, mask.shape, image.dtype, mask.dtype)\n",
    "#     break"
   ]
  },
  {
   "cell_type": "code",
   "execution_count": null,
   "metadata": {},
   "outputs": [],
   "source": [
    "# !mkdir albument_experiment"
   ]
  },
  {
   "cell_type": "code",
   "execution_count": null,
   "metadata": {},
   "outputs": [],
   "source": [
    "# !autoalbument-create --config-dir albument_experiment --task semantic_segmentation --num-classes 1"
   ]
  },
  {
   "cell_type": "code",
   "execution_count": null,
   "metadata": {},
   "outputs": [],
   "source": [
    "!autoalbument-search --config-dir albument_experiment"
   ]
  },
  {
   "cell_type": "code",
   "execution_count": null,
   "metadata": {},
   "outputs": [],
   "source": []
  }
 ],
 "metadata": {
  "kernelspec": {
   "display_name": "Python 3",
   "language": "python",
   "name": "python3"
  },
  "language_info": {
   "codemirror_mode": {
    "name": "ipython",
    "version": 3
   },
   "file_extension": ".py",
   "mimetype": "text/x-python",
   "name": "python",
   "nbconvert_exporter": "python",
   "pygments_lexer": "ipython3",
   "version": "3.7.9"
  }
 },
 "nbformat": 4,
 "nbformat_minor": 4
}
